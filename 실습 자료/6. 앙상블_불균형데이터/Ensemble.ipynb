{
 "cells": [
  {
   "cell_type": "code",
   "execution_count": 1,
   "metadata": {},
   "outputs": [],
   "source": [
    "import numpy as np\n",
    "import pandas as pd\n",
    "from sklearn.ensemble import (VotingClassifier, BaggingClassifier, \n",
    "                              RandomForestClassifier, AdaBoostClassifier, \n",
    "                             GradientBoostingClassifier)\n",
    "from sklearn.linear_model import LogisticRegression\n",
    "from sklearn.metrics import (confusion_matrix, accuracy_score, \n",
    "                             f1_score, roc_auc_score)\n",
    "from sklearn.discriminant_analysis import QuadraticDiscriminantAnalysis\n",
    "from sklearn.tree import DecisionTreeClassifier"
   ]
  },
  {
   "cell_type": "code",
   "execution_count": 2,
   "metadata": {},
   "outputs": [
    {
     "data": {
      "text/html": [
       "<div>\n",
       "<style scoped>\n",
       "    .dataframe tbody tr th:only-of-type {\n",
       "        vertical-align: middle;\n",
       "    }\n",
       "\n",
       "    .dataframe tbody tr th {\n",
       "        vertical-align: top;\n",
       "    }\n",
       "\n",
       "    .dataframe thead th {\n",
       "        text-align: right;\n",
       "    }\n",
       "</style>\n",
       "<table border=\"1\" class=\"dataframe\">\n",
       "  <thead>\n",
       "    <tr style=\"text-align: right;\">\n",
       "      <th></th>\n",
       "      <th>id</th>\n",
       "      <th>result</th>\n",
       "      <th>radius_mean</th>\n",
       "      <th>texture_mean</th>\n",
       "      <th>perimeter_mean</th>\n",
       "      <th>area_mean</th>\n",
       "      <th>smoothness_mean</th>\n",
       "      <th>compactness_mean</th>\n",
       "      <th>concavity_mean</th>\n",
       "      <th>concave points_mean</th>\n",
       "      <th>...</th>\n",
       "      <th>radius_worst</th>\n",
       "      <th>texture_worst</th>\n",
       "      <th>perimeter_worst</th>\n",
       "      <th>area_worst</th>\n",
       "      <th>smoothness_worst</th>\n",
       "      <th>compactness_worst</th>\n",
       "      <th>concavity_worst</th>\n",
       "      <th>concave points_worst</th>\n",
       "      <th>symmetry_worst</th>\n",
       "      <th>fractal_dimension_worst</th>\n",
       "    </tr>\n",
       "  </thead>\n",
       "  <tbody>\n",
       "    <tr>\n",
       "      <th>0</th>\n",
       "      <td>842302</td>\n",
       "      <td>M</td>\n",
       "      <td>17.99</td>\n",
       "      <td>10.38</td>\n",
       "      <td>122.80</td>\n",
       "      <td>1001.0</td>\n",
       "      <td>0.11840</td>\n",
       "      <td>0.27760</td>\n",
       "      <td>0.3001</td>\n",
       "      <td>0.14710</td>\n",
       "      <td>...</td>\n",
       "      <td>25.38</td>\n",
       "      <td>17.33</td>\n",
       "      <td>184.60</td>\n",
       "      <td>2019.0</td>\n",
       "      <td>0.1622</td>\n",
       "      <td>0.6656</td>\n",
       "      <td>0.7119</td>\n",
       "      <td>0.2654</td>\n",
       "      <td>0.4601</td>\n",
       "      <td>0.11890</td>\n",
       "    </tr>\n",
       "    <tr>\n",
       "      <th>1</th>\n",
       "      <td>842517</td>\n",
       "      <td>M</td>\n",
       "      <td>20.57</td>\n",
       "      <td>17.77</td>\n",
       "      <td>132.90</td>\n",
       "      <td>1326.0</td>\n",
       "      <td>0.08474</td>\n",
       "      <td>0.07864</td>\n",
       "      <td>0.0869</td>\n",
       "      <td>0.07017</td>\n",
       "      <td>...</td>\n",
       "      <td>24.99</td>\n",
       "      <td>23.41</td>\n",
       "      <td>158.80</td>\n",
       "      <td>1956.0</td>\n",
       "      <td>0.1238</td>\n",
       "      <td>0.1866</td>\n",
       "      <td>0.2416</td>\n",
       "      <td>0.1860</td>\n",
       "      <td>0.2750</td>\n",
       "      <td>0.08902</td>\n",
       "    </tr>\n",
       "    <tr>\n",
       "      <th>2</th>\n",
       "      <td>84300903</td>\n",
       "      <td>M</td>\n",
       "      <td>19.69</td>\n",
       "      <td>21.25</td>\n",
       "      <td>130.00</td>\n",
       "      <td>1203.0</td>\n",
       "      <td>0.10960</td>\n",
       "      <td>0.15990</td>\n",
       "      <td>0.1974</td>\n",
       "      <td>0.12790</td>\n",
       "      <td>...</td>\n",
       "      <td>23.57</td>\n",
       "      <td>25.53</td>\n",
       "      <td>152.50</td>\n",
       "      <td>1709.0</td>\n",
       "      <td>0.1444</td>\n",
       "      <td>0.4245</td>\n",
       "      <td>0.4504</td>\n",
       "      <td>0.2430</td>\n",
       "      <td>0.3613</td>\n",
       "      <td>0.08758</td>\n",
       "    </tr>\n",
       "    <tr>\n",
       "      <th>3</th>\n",
       "      <td>84348301</td>\n",
       "      <td>M</td>\n",
       "      <td>11.42</td>\n",
       "      <td>20.38</td>\n",
       "      <td>77.58</td>\n",
       "      <td>386.1</td>\n",
       "      <td>0.14250</td>\n",
       "      <td>0.28390</td>\n",
       "      <td>0.2414</td>\n",
       "      <td>0.10520</td>\n",
       "      <td>...</td>\n",
       "      <td>14.91</td>\n",
       "      <td>26.50</td>\n",
       "      <td>98.87</td>\n",
       "      <td>567.7</td>\n",
       "      <td>0.2098</td>\n",
       "      <td>0.8663</td>\n",
       "      <td>0.6869</td>\n",
       "      <td>0.2575</td>\n",
       "      <td>0.6638</td>\n",
       "      <td>0.17300</td>\n",
       "    </tr>\n",
       "    <tr>\n",
       "      <th>4</th>\n",
       "      <td>84358402</td>\n",
       "      <td>M</td>\n",
       "      <td>20.29</td>\n",
       "      <td>14.34</td>\n",
       "      <td>135.10</td>\n",
       "      <td>1297.0</td>\n",
       "      <td>0.10030</td>\n",
       "      <td>0.13280</td>\n",
       "      <td>0.1980</td>\n",
       "      <td>0.10430</td>\n",
       "      <td>...</td>\n",
       "      <td>22.54</td>\n",
       "      <td>16.67</td>\n",
       "      <td>152.20</td>\n",
       "      <td>1575.0</td>\n",
       "      <td>0.1374</td>\n",
       "      <td>0.2050</td>\n",
       "      <td>0.4000</td>\n",
       "      <td>0.1625</td>\n",
       "      <td>0.2364</td>\n",
       "      <td>0.07678</td>\n",
       "    </tr>\n",
       "  </tbody>\n",
       "</table>\n",
       "<p>5 rows × 32 columns</p>\n",
       "</div>"
      ],
      "text/plain": [
       "         id result  radius_mean  texture_mean  perimeter_mean  area_mean  \\\n",
       "0    842302      M        17.99         10.38          122.80     1001.0   \n",
       "1    842517      M        20.57         17.77          132.90     1326.0   \n",
       "2  84300903      M        19.69         21.25          130.00     1203.0   \n",
       "3  84348301      M        11.42         20.38           77.58      386.1   \n",
       "4  84358402      M        20.29         14.34          135.10     1297.0   \n",
       "\n",
       "   smoothness_mean  compactness_mean  concavity_mean  concave points_mean  \\\n",
       "0          0.11840           0.27760          0.3001              0.14710   \n",
       "1          0.08474           0.07864          0.0869              0.07017   \n",
       "2          0.10960           0.15990          0.1974              0.12790   \n",
       "3          0.14250           0.28390          0.2414              0.10520   \n",
       "4          0.10030           0.13280          0.1980              0.10430   \n",
       "\n",
       "   ...  radius_worst  texture_worst  perimeter_worst  area_worst  \\\n",
       "0  ...         25.38          17.33           184.60      2019.0   \n",
       "1  ...         24.99          23.41           158.80      1956.0   \n",
       "2  ...         23.57          25.53           152.50      1709.0   \n",
       "3  ...         14.91          26.50            98.87       567.7   \n",
       "4  ...         22.54          16.67           152.20      1575.0   \n",
       "\n",
       "   smoothness_worst  compactness_worst  concavity_worst  concave points_worst  \\\n",
       "0            0.1622             0.6656           0.7119                0.2654   \n",
       "1            0.1238             0.1866           0.2416                0.1860   \n",
       "2            0.1444             0.4245           0.4504                0.2430   \n",
       "3            0.2098             0.8663           0.6869                0.2575   \n",
       "4            0.1374             0.2050           0.4000                0.1625   \n",
       "\n",
       "   symmetry_worst  fractal_dimension_worst  \n",
       "0          0.4601                  0.11890  \n",
       "1          0.2750                  0.08902  \n",
       "2          0.3613                  0.08758  \n",
       "3          0.6638                  0.17300  \n",
       "4          0.2364                  0.07678  \n",
       "\n",
       "[5 rows x 32 columns]"
      ]
     },
     "execution_count": 2,
     "metadata": {},
     "output_type": "execute_result"
    }
   ],
   "source": [
    "# load dataset\n",
    "df = pd.read_csv('breast_cancer.csv')\n",
    "df.head()"
   ]
  },
  {
   "cell_type": "code",
   "execution_count": 3,
   "metadata": {},
   "outputs": [],
   "source": [
    "# 독립변수/종속변수 분리 및 확인\n",
    "X = df.iloc[:, 2:]\n",
    "y = df.iloc[:, 1]"
   ]
  },
  {
   "cell_type": "code",
   "execution_count": 4,
   "metadata": {},
   "outputs": [
    {
     "data": {
      "text/html": [
       "<div>\n",
       "<style scoped>\n",
       "    .dataframe tbody tr th:only-of-type {\n",
       "        vertical-align: middle;\n",
       "    }\n",
       "\n",
       "    .dataframe tbody tr th {\n",
       "        vertical-align: top;\n",
       "    }\n",
       "\n",
       "    .dataframe thead th {\n",
       "        text-align: right;\n",
       "    }\n",
       "</style>\n",
       "<table border=\"1\" class=\"dataframe\">\n",
       "  <thead>\n",
       "    <tr style=\"text-align: right;\">\n",
       "      <th></th>\n",
       "      <th>radius_mean</th>\n",
       "      <th>texture_mean</th>\n",
       "      <th>perimeter_mean</th>\n",
       "      <th>area_mean</th>\n",
       "      <th>smoothness_mean</th>\n",
       "      <th>compactness_mean</th>\n",
       "      <th>concavity_mean</th>\n",
       "      <th>concave points_mean</th>\n",
       "      <th>symmetry_mean</th>\n",
       "      <th>fractal_dimension_mean</th>\n",
       "      <th>...</th>\n",
       "      <th>radius_worst</th>\n",
       "      <th>texture_worst</th>\n",
       "      <th>perimeter_worst</th>\n",
       "      <th>area_worst</th>\n",
       "      <th>smoothness_worst</th>\n",
       "      <th>compactness_worst</th>\n",
       "      <th>concavity_worst</th>\n",
       "      <th>concave points_worst</th>\n",
       "      <th>symmetry_worst</th>\n",
       "      <th>fractal_dimension_worst</th>\n",
       "    </tr>\n",
       "  </thead>\n",
       "  <tbody>\n",
       "    <tr>\n",
       "      <th>0</th>\n",
       "      <td>17.99</td>\n",
       "      <td>10.38</td>\n",
       "      <td>122.80</td>\n",
       "      <td>1001.0</td>\n",
       "      <td>0.11840</td>\n",
       "      <td>0.27760</td>\n",
       "      <td>0.3001</td>\n",
       "      <td>0.14710</td>\n",
       "      <td>0.2419</td>\n",
       "      <td>0.07871</td>\n",
       "      <td>...</td>\n",
       "      <td>25.38</td>\n",
       "      <td>17.33</td>\n",
       "      <td>184.60</td>\n",
       "      <td>2019.0</td>\n",
       "      <td>0.1622</td>\n",
       "      <td>0.6656</td>\n",
       "      <td>0.7119</td>\n",
       "      <td>0.2654</td>\n",
       "      <td>0.4601</td>\n",
       "      <td>0.11890</td>\n",
       "    </tr>\n",
       "    <tr>\n",
       "      <th>1</th>\n",
       "      <td>20.57</td>\n",
       "      <td>17.77</td>\n",
       "      <td>132.90</td>\n",
       "      <td>1326.0</td>\n",
       "      <td>0.08474</td>\n",
       "      <td>0.07864</td>\n",
       "      <td>0.0869</td>\n",
       "      <td>0.07017</td>\n",
       "      <td>0.1812</td>\n",
       "      <td>0.05667</td>\n",
       "      <td>...</td>\n",
       "      <td>24.99</td>\n",
       "      <td>23.41</td>\n",
       "      <td>158.80</td>\n",
       "      <td>1956.0</td>\n",
       "      <td>0.1238</td>\n",
       "      <td>0.1866</td>\n",
       "      <td>0.2416</td>\n",
       "      <td>0.1860</td>\n",
       "      <td>0.2750</td>\n",
       "      <td>0.08902</td>\n",
       "    </tr>\n",
       "    <tr>\n",
       "      <th>2</th>\n",
       "      <td>19.69</td>\n",
       "      <td>21.25</td>\n",
       "      <td>130.00</td>\n",
       "      <td>1203.0</td>\n",
       "      <td>0.10960</td>\n",
       "      <td>0.15990</td>\n",
       "      <td>0.1974</td>\n",
       "      <td>0.12790</td>\n",
       "      <td>0.2069</td>\n",
       "      <td>0.05999</td>\n",
       "      <td>...</td>\n",
       "      <td>23.57</td>\n",
       "      <td>25.53</td>\n",
       "      <td>152.50</td>\n",
       "      <td>1709.0</td>\n",
       "      <td>0.1444</td>\n",
       "      <td>0.4245</td>\n",
       "      <td>0.4504</td>\n",
       "      <td>0.2430</td>\n",
       "      <td>0.3613</td>\n",
       "      <td>0.08758</td>\n",
       "    </tr>\n",
       "    <tr>\n",
       "      <th>3</th>\n",
       "      <td>11.42</td>\n",
       "      <td>20.38</td>\n",
       "      <td>77.58</td>\n",
       "      <td>386.1</td>\n",
       "      <td>0.14250</td>\n",
       "      <td>0.28390</td>\n",
       "      <td>0.2414</td>\n",
       "      <td>0.10520</td>\n",
       "      <td>0.2597</td>\n",
       "      <td>0.09744</td>\n",
       "      <td>...</td>\n",
       "      <td>14.91</td>\n",
       "      <td>26.50</td>\n",
       "      <td>98.87</td>\n",
       "      <td>567.7</td>\n",
       "      <td>0.2098</td>\n",
       "      <td>0.8663</td>\n",
       "      <td>0.6869</td>\n",
       "      <td>0.2575</td>\n",
       "      <td>0.6638</td>\n",
       "      <td>0.17300</td>\n",
       "    </tr>\n",
       "    <tr>\n",
       "      <th>4</th>\n",
       "      <td>20.29</td>\n",
       "      <td>14.34</td>\n",
       "      <td>135.10</td>\n",
       "      <td>1297.0</td>\n",
       "      <td>0.10030</td>\n",
       "      <td>0.13280</td>\n",
       "      <td>0.1980</td>\n",
       "      <td>0.10430</td>\n",
       "      <td>0.1809</td>\n",
       "      <td>0.05883</td>\n",
       "      <td>...</td>\n",
       "      <td>22.54</td>\n",
       "      <td>16.67</td>\n",
       "      <td>152.20</td>\n",
       "      <td>1575.0</td>\n",
       "      <td>0.1374</td>\n",
       "      <td>0.2050</td>\n",
       "      <td>0.4000</td>\n",
       "      <td>0.1625</td>\n",
       "      <td>0.2364</td>\n",
       "      <td>0.07678</td>\n",
       "    </tr>\n",
       "  </tbody>\n",
       "</table>\n",
       "<p>5 rows × 30 columns</p>\n",
       "</div>"
      ],
      "text/plain": [
       "   radius_mean  texture_mean  perimeter_mean  area_mean  smoothness_mean  \\\n",
       "0        17.99         10.38          122.80     1001.0          0.11840   \n",
       "1        20.57         17.77          132.90     1326.0          0.08474   \n",
       "2        19.69         21.25          130.00     1203.0          0.10960   \n",
       "3        11.42         20.38           77.58      386.1          0.14250   \n",
       "4        20.29         14.34          135.10     1297.0          0.10030   \n",
       "\n",
       "   compactness_mean  concavity_mean  concave points_mean  symmetry_mean  \\\n",
       "0           0.27760          0.3001              0.14710         0.2419   \n",
       "1           0.07864          0.0869              0.07017         0.1812   \n",
       "2           0.15990          0.1974              0.12790         0.2069   \n",
       "3           0.28390          0.2414              0.10520         0.2597   \n",
       "4           0.13280          0.1980              0.10430         0.1809   \n",
       "\n",
       "   fractal_dimension_mean  ...  radius_worst  texture_worst  perimeter_worst  \\\n",
       "0                 0.07871  ...         25.38          17.33           184.60   \n",
       "1                 0.05667  ...         24.99          23.41           158.80   \n",
       "2                 0.05999  ...         23.57          25.53           152.50   \n",
       "3                 0.09744  ...         14.91          26.50            98.87   \n",
       "4                 0.05883  ...         22.54          16.67           152.20   \n",
       "\n",
       "   area_worst  smoothness_worst  compactness_worst  concavity_worst  \\\n",
       "0      2019.0            0.1622             0.6656           0.7119   \n",
       "1      1956.0            0.1238             0.1866           0.2416   \n",
       "2      1709.0            0.1444             0.4245           0.4504   \n",
       "3       567.7            0.2098             0.8663           0.6869   \n",
       "4      1575.0            0.1374             0.2050           0.4000   \n",
       "\n",
       "   concave points_worst  symmetry_worst  fractal_dimension_worst  \n",
       "0                0.2654          0.4601                  0.11890  \n",
       "1                0.1860          0.2750                  0.08902  \n",
       "2                0.2430          0.3613                  0.08758  \n",
       "3                0.2575          0.6638                  0.17300  \n",
       "4                0.1625          0.2364                  0.07678  \n",
       "\n",
       "[5 rows x 30 columns]"
      ]
     },
     "execution_count": 4,
     "metadata": {},
     "output_type": "execute_result"
    }
   ],
   "source": [
    "X.head()"
   ]
  },
  {
   "cell_type": "code",
   "execution_count": 5,
   "metadata": {
    "scrolled": true
   },
   "outputs": [
    {
     "data": {
      "text/plain": [
       "0      M\n",
       "1      M\n",
       "2      M\n",
       "3      M\n",
       "4      M\n",
       "      ..\n",
       "564    M\n",
       "565    M\n",
       "566    M\n",
       "567    M\n",
       "568    B\n",
       "Name: result, Length: 569, dtype: object"
      ]
     },
     "execution_count": 5,
     "metadata": {},
     "output_type": "execute_result"
    }
   ],
   "source": [
    "y"
   ]
  },
  {
   "cell_type": "code",
   "execution_count": 6,
   "metadata": {},
   "outputs": [
    {
     "name": "stdout",
     "output_type": "stream",
     "text": [
      "['B' 'M']\n"
     ]
    }
   ],
   "source": [
    "# y class 종류 확인\n",
    "print(np.unique(y))"
   ]
  },
  {
   "cell_type": "markdown",
   "metadata": {},
   "source": [
    "# Bagging classifier"
   ]
  },
  {
   "cell_type": "code",
   "execution_count": 7,
   "metadata": {},
   "outputs": [],
   "source": [
    "?BaggingClassifier"
   ]
  },
  {
   "cell_type": "markdown",
   "metadata": {},
   "source": [
    "## 주요 파라미터\n",
    "\n",
    "### base_estimator: 기본 모형\n",
    "### n_estimators: 모형 개수\n",
    "### bootstrap: 데이터 중복 사용 여부\n",
    "### max_samples: 데이터 샘플 중 사용할 개수 또는 비율\n",
    "### bootstrap_features: 변수 중복 사용 여부\n",
    "### max_features: 변수 중 사용할 개수 또는 비율\n",
    "### oob_score"
   ]
  },
  {
   "cell_type": "code",
   "execution_count": 8,
   "metadata": {},
   "outputs": [
    {
     "name": "stdout",
     "output_type": "stream",
     "text": [
      "[[342  15]\n",
      " [ 16 196]]\n"
     ]
    },
    {
     "name": "stderr",
     "output_type": "stream",
     "text": [
      "/home/pirl/anaconda3/envs/posco/lib/python3.7/site-packages/sklearn/linear_model/_logistic.py:764: ConvergenceWarning: lbfgs failed to converge (status=1):\n",
      "STOP: TOTAL NO. of ITERATIONS REACHED LIMIT.\n",
      "\n",
      "Increase the number of iterations (max_iter) or scale the data as shown in:\n",
      "    https://scikit-learn.org/stable/modules/preprocessing.html\n",
      "Please also refer to the documentation for alternative solver options:\n",
      "    https://scikit-learn.org/stable/modules/linear_model.html#logistic-regression\n",
      "  extra_warning_msg=_LOGISTIC_SOLVER_CONVERGENCE_MSG)\n"
     ]
    }
   ],
   "source": [
    "lr = LogisticRegression(max_iter=100)\n",
    "lr.fit(X, y)\n",
    "\n",
    "y_pred = lr.predict(X)\n",
    "\n",
    "con_mat_lr = confusion_matrix(y, y_pred)\n",
    "print(con_mat_lr)"
   ]
  },
  {
   "cell_type": "code",
   "execution_count": 9,
   "metadata": {},
   "outputs": [
    {
     "name": "stderr",
     "output_type": "stream",
     "text": [
      "/home/pirl/anaconda3/envs/posco/lib/python3.7/site-packages/sklearn/linear_model/_logistic.py:764: ConvergenceWarning: lbfgs failed to converge (status=1):\n",
      "STOP: TOTAL NO. of ITERATIONS REACHED LIMIT.\n",
      "\n",
      "Increase the number of iterations (max_iter) or scale the data as shown in:\n",
      "    https://scikit-learn.org/stable/modules/preprocessing.html\n",
      "Please also refer to the documentation for alternative solver options:\n",
      "    https://scikit-learn.org/stable/modules/linear_model.html#logistic-regression\n",
      "  extra_warning_msg=_LOGISTIC_SOLVER_CONVERGENCE_MSG)\n",
      "/home/pirl/anaconda3/envs/posco/lib/python3.7/site-packages/sklearn/linear_model/_logistic.py:764: ConvergenceWarning: lbfgs failed to converge (status=1):\n",
      "STOP: TOTAL NO. of ITERATIONS REACHED LIMIT.\n",
      "\n",
      "Increase the number of iterations (max_iter) or scale the data as shown in:\n",
      "    https://scikit-learn.org/stable/modules/preprocessing.html\n",
      "Please also refer to the documentation for alternative solver options:\n",
      "    https://scikit-learn.org/stable/modules/linear_model.html#logistic-regression\n",
      "  extra_warning_msg=_LOGISTIC_SOLVER_CONVERGENCE_MSG)\n",
      "/home/pirl/anaconda3/envs/posco/lib/python3.7/site-packages/sklearn/linear_model/_logistic.py:764: ConvergenceWarning: lbfgs failed to converge (status=1):\n",
      "STOP: TOTAL NO. of ITERATIONS REACHED LIMIT.\n",
      "\n",
      "Increase the number of iterations (max_iter) or scale the data as shown in:\n",
      "    https://scikit-learn.org/stable/modules/preprocessing.html\n",
      "Please also refer to the documentation for alternative solver options:\n",
      "    https://scikit-learn.org/stable/modules/linear_model.html#logistic-regression\n",
      "  extra_warning_msg=_LOGISTIC_SOLVER_CONVERGENCE_MSG)\n",
      "/home/pirl/anaconda3/envs/posco/lib/python3.7/site-packages/sklearn/linear_model/_logistic.py:764: ConvergenceWarning: lbfgs failed to converge (status=1):\n",
      "STOP: TOTAL NO. of ITERATIONS REACHED LIMIT.\n",
      "\n",
      "Increase the number of iterations (max_iter) or scale the data as shown in:\n",
      "    https://scikit-learn.org/stable/modules/preprocessing.html\n",
      "Please also refer to the documentation for alternative solver options:\n",
      "    https://scikit-learn.org/stable/modules/linear_model.html#logistic-regression\n",
      "  extra_warning_msg=_LOGISTIC_SOLVER_CONVERGENCE_MSG)\n",
      "/home/pirl/anaconda3/envs/posco/lib/python3.7/site-packages/sklearn/linear_model/_logistic.py:764: ConvergenceWarning: lbfgs failed to converge (status=1):\n",
      "STOP: TOTAL NO. of ITERATIONS REACHED LIMIT.\n",
      "\n",
      "Increase the number of iterations (max_iter) or scale the data as shown in:\n",
      "    https://scikit-learn.org/stable/modules/preprocessing.html\n",
      "Please also refer to the documentation for alternative solver options:\n",
      "    https://scikit-learn.org/stable/modules/linear_model.html#logistic-regression\n",
      "  extra_warning_msg=_LOGISTIC_SOLVER_CONVERGENCE_MSG)\n",
      "/home/pirl/anaconda3/envs/posco/lib/python3.7/site-packages/sklearn/linear_model/_logistic.py:764: ConvergenceWarning: lbfgs failed to converge (status=1):\n",
      "STOP: TOTAL NO. of ITERATIONS REACHED LIMIT.\n",
      "\n",
      "Increase the number of iterations (max_iter) or scale the data as shown in:\n",
      "    https://scikit-learn.org/stable/modules/preprocessing.html\n",
      "Please also refer to the documentation for alternative solver options:\n",
      "    https://scikit-learn.org/stable/modules/linear_model.html#logistic-regression\n",
      "  extra_warning_msg=_LOGISTIC_SOLVER_CONVERGENCE_MSG)\n",
      "/home/pirl/anaconda3/envs/posco/lib/python3.7/site-packages/sklearn/linear_model/_logistic.py:764: ConvergenceWarning: lbfgs failed to converge (status=1):\n",
      "STOP: TOTAL NO. of ITERATIONS REACHED LIMIT.\n",
      "\n",
      "Increase the number of iterations (max_iter) or scale the data as shown in:\n",
      "    https://scikit-learn.org/stable/modules/preprocessing.html\n",
      "Please also refer to the documentation for alternative solver options:\n",
      "    https://scikit-learn.org/stable/modules/linear_model.html#logistic-regression\n",
      "  extra_warning_msg=_LOGISTIC_SOLVER_CONVERGENCE_MSG)\n",
      "/home/pirl/anaconda3/envs/posco/lib/python3.7/site-packages/sklearn/linear_model/_logistic.py:764: ConvergenceWarning: lbfgs failed to converge (status=1):\n",
      "STOP: TOTAL NO. of ITERATIONS REACHED LIMIT.\n",
      "\n",
      "Increase the number of iterations (max_iter) or scale the data as shown in:\n",
      "    https://scikit-learn.org/stable/modules/preprocessing.html\n",
      "Please also refer to the documentation for alternative solver options:\n",
      "    https://scikit-learn.org/stable/modules/linear_model.html#logistic-regression\n",
      "  extra_warning_msg=_LOGISTIC_SOLVER_CONVERGENCE_MSG)\n",
      "/home/pirl/anaconda3/envs/posco/lib/python3.7/site-packages/sklearn/linear_model/_logistic.py:764: ConvergenceWarning: lbfgs failed to converge (status=1):\n",
      "STOP: TOTAL NO. of ITERATIONS REACHED LIMIT.\n",
      "\n",
      "Increase the number of iterations (max_iter) or scale the data as shown in:\n",
      "    https://scikit-learn.org/stable/modules/preprocessing.html\n",
      "Please also refer to the documentation for alternative solver options:\n",
      "    https://scikit-learn.org/stable/modules/linear_model.html#logistic-regression\n",
      "  extra_warning_msg=_LOGISTIC_SOLVER_CONVERGENCE_MSG)\n",
      "/home/pirl/anaconda3/envs/posco/lib/python3.7/site-packages/sklearn/linear_model/_logistic.py:764: ConvergenceWarning: lbfgs failed to converge (status=1):\n",
      "STOP: TOTAL NO. of ITERATIONS REACHED LIMIT.\n",
      "\n",
      "Increase the number of iterations (max_iter) or scale the data as shown in:\n",
      "    https://scikit-learn.org/stable/modules/preprocessing.html\n",
      "Please also refer to the documentation for alternative solver options:\n",
      "    https://scikit-learn.org/stable/modules/linear_model.html#logistic-regression\n",
      "  extra_warning_msg=_LOGISTIC_SOLVER_CONVERGENCE_MSG)\n"
     ]
    },
    {
     "data": {
      "text/plain": [
       "BaggingClassifier(base_estimator=LogisticRegression(), max_features=0.99,\n",
       "                  max_samples=0.99)"
      ]
     },
     "execution_count": 9,
     "metadata": {},
     "output_type": "execute_result"
    }
   ],
   "source": [
    "bagging = BaggingClassifier(base_estimator=LogisticRegression(max_iter=100),\n",
    "                                n_estimators=10, \n",
    "                                max_features=0.99, \n",
    "                                max_samples=0.99)\n",
    "bagging.fit(X, y)"
   ]
  },
  {
   "cell_type": "code",
   "execution_count": 10,
   "metadata": {},
   "outputs": [
    {
     "data": {
      "text/plain": [
       "BaggingClassifier(base_estimator=LogisticRegression(), max_features=0.99,\n",
       "                  max_samples=0.99)"
      ]
     },
     "execution_count": 10,
     "metadata": {},
     "output_type": "execute_result"
    }
   ],
   "source": [
    "bagging"
   ]
  },
  {
   "cell_type": "code",
   "execution_count": 11,
   "metadata": {},
   "outputs": [
    {
     "name": "stdout",
     "output_type": "stream",
     "text": [
      "[[345  12]\n",
      " [ 18 194]]\n"
     ]
    }
   ],
   "source": [
    "y_pred = bagging.predict(X)\n",
    "\n",
    "con_mat_bagging = confusion_matrix(y, y_pred)\n",
    "print(con_mat_bagging)"
   ]
  },
  {
   "cell_type": "markdown",
   "metadata": {},
   "source": [
    "## Random Forest"
   ]
  },
  {
   "cell_type": "code",
   "execution_count": 12,
   "metadata": {},
   "outputs": [],
   "source": [
    "?RandomForestClassifier"
   ]
  },
  {
   "cell_type": "markdown",
   "metadata": {},
   "source": [
    "## 주요 파라미터\n",
    "\n",
    "### n_estimators: 의사결정트리의 수\n",
    "### max_features: default=sqrt(n_features)\n",
    "### -\n",
    "### criterion: {'gini', 'entropy'}\n",
    "### max_depth\n",
    "### min_samples_split\n",
    "### min_samples_leaf"
   ]
  },
  {
   "cell_type": "code",
   "execution_count": 14,
   "metadata": {},
   "outputs": [
    {
     "data": {
      "text/plain": [
       "RandomForestClassifier(max_depth=4, min_samples_split=0.01, oob_score=True)"
      ]
     },
     "execution_count": 14,
     "metadata": {},
     "output_type": "execute_result"
    }
   ],
   "source": [
    "# hyperparameters: n_estimators, oob_score max_depth, min_samples_leaf, min_samples_split, \n",
    "random_forest = RandomForestClassifier(max_depth=4, \n",
    "                                       min_samples_split=0.01, \n",
    "                                       oob_score=True)\n",
    "random_forest.fit(X, y)"
   ]
  },
  {
   "cell_type": "code",
   "execution_count": 56,
   "metadata": {},
   "outputs": [
    {
     "data": {
      "text/plain": [
       "[DecisionTreeClassifier(max_depth=4, max_features='auto', min_samples_split=0.01,\n",
       "                        random_state=527733210),\n",
       " DecisionTreeClassifier(max_depth=4, max_features='auto', min_samples_split=0.01,\n",
       "                        random_state=463484193),\n",
       " DecisionTreeClassifier(max_depth=4, max_features='auto', min_samples_split=0.01,\n",
       "                        random_state=1131787998),\n",
       " DecisionTreeClassifier(max_depth=4, max_features='auto', min_samples_split=0.01,\n",
       "                        random_state=1550514969),\n",
       " DecisionTreeClassifier(max_depth=4, max_features='auto', min_samples_split=0.01,\n",
       "                        random_state=1978497699),\n",
       " DecisionTreeClassifier(max_depth=4, max_features='auto', min_samples_split=0.01,\n",
       "                        random_state=846061521),\n",
       " DecisionTreeClassifier(max_depth=4, max_features='auto', min_samples_split=0.01,\n",
       "                        random_state=229794338),\n",
       " DecisionTreeClassifier(max_depth=4, max_features='auto', min_samples_split=0.01,\n",
       "                        random_state=1415337439),\n",
       " DecisionTreeClassifier(max_depth=4, max_features='auto', min_samples_split=0.01,\n",
       "                        random_state=211801760),\n",
       " DecisionTreeClassifier(max_depth=4, max_features='auto', min_samples_split=0.01,\n",
       "                        random_state=233638115),\n",
       " DecisionTreeClassifier(max_depth=4, max_features='auto', min_samples_split=0.01,\n",
       "                        random_state=339985351),\n",
       " DecisionTreeClassifier(max_depth=4, max_features='auto', min_samples_split=0.01,\n",
       "                        random_state=985912592),\n",
       " DecisionTreeClassifier(max_depth=4, max_features='auto', min_samples_split=0.01,\n",
       "                        random_state=175001204),\n",
       " DecisionTreeClassifier(max_depth=4, max_features='auto', min_samples_split=0.01,\n",
       "                        random_state=723683969),\n",
       " DecisionTreeClassifier(max_depth=4, max_features='auto', min_samples_split=0.01,\n",
       "                        random_state=1815596944),\n",
       " DecisionTreeClassifier(max_depth=4, max_features='auto', min_samples_split=0.01,\n",
       "                        random_state=1462860540),\n",
       " DecisionTreeClassifier(max_depth=4, max_features='auto', min_samples_split=0.01,\n",
       "                        random_state=1561366950),\n",
       " DecisionTreeClassifier(max_depth=4, max_features='auto', min_samples_split=0.01,\n",
       "                        random_state=320331342),\n",
       " DecisionTreeClassifier(max_depth=4, max_features='auto', min_samples_split=0.01,\n",
       "                        random_state=747473878),\n",
       " DecisionTreeClassifier(max_depth=4, max_features='auto', min_samples_split=0.01,\n",
       "                        random_state=315222805),\n",
       " DecisionTreeClassifier(max_depth=4, max_features='auto', min_samples_split=0.01,\n",
       "                        random_state=1880602521),\n",
       " DecisionTreeClassifier(max_depth=4, max_features='auto', min_samples_split=0.01,\n",
       "                        random_state=936448217),\n",
       " DecisionTreeClassifier(max_depth=4, max_features='auto', min_samples_split=0.01,\n",
       "                        random_state=996321951),\n",
       " DecisionTreeClassifier(max_depth=4, max_features='auto', min_samples_split=0.01,\n",
       "                        random_state=1419442816),\n",
       " DecisionTreeClassifier(max_depth=4, max_features='auto', min_samples_split=0.01,\n",
       "                        random_state=1354890706),\n",
       " DecisionTreeClassifier(max_depth=4, max_features='auto', min_samples_split=0.01,\n",
       "                        random_state=330393466),\n",
       " DecisionTreeClassifier(max_depth=4, max_features='auto', min_samples_split=0.01,\n",
       "                        random_state=1162742480),\n",
       " DecisionTreeClassifier(max_depth=4, max_features='auto', min_samples_split=0.01,\n",
       "                        random_state=1832354258),\n",
       " DecisionTreeClassifier(max_depth=4, max_features='auto', min_samples_split=0.01,\n",
       "                        random_state=1695655363),\n",
       " DecisionTreeClassifier(max_depth=4, max_features='auto', min_samples_split=0.01,\n",
       "                        random_state=2024976808),\n",
       " DecisionTreeClassifier(max_depth=4, max_features='auto', min_samples_split=0.01,\n",
       "                        random_state=1366047896),\n",
       " DecisionTreeClassifier(max_depth=4, max_features='auto', min_samples_split=0.01,\n",
       "                        random_state=1011179497),\n",
       " DecisionTreeClassifier(max_depth=4, max_features='auto', min_samples_split=0.01,\n",
       "                        random_state=126261475),\n",
       " DecisionTreeClassifier(max_depth=4, max_features='auto', min_samples_split=0.01,\n",
       "                        random_state=1335497487),\n",
       " DecisionTreeClassifier(max_depth=4, max_features='auto', min_samples_split=0.01,\n",
       "                        random_state=738994071),\n",
       " DecisionTreeClassifier(max_depth=4, max_features='auto', min_samples_split=0.01,\n",
       "                        random_state=554350171),\n",
       " DecisionTreeClassifier(max_depth=4, max_features='auto', min_samples_split=0.01,\n",
       "                        random_state=1755682524),\n",
       " DecisionTreeClassifier(max_depth=4, max_features='auto', min_samples_split=0.01,\n",
       "                        random_state=525106542),\n",
       " DecisionTreeClassifier(max_depth=4, max_features='auto', min_samples_split=0.01,\n",
       "                        random_state=548288391),\n",
       " DecisionTreeClassifier(max_depth=4, max_features='auto', min_samples_split=0.01,\n",
       "                        random_state=1901361692),\n",
       " DecisionTreeClassifier(max_depth=4, max_features='auto', min_samples_split=0.01,\n",
       "                        random_state=1429057107),\n",
       " DecisionTreeClassifier(max_depth=4, max_features='auto', min_samples_split=0.01,\n",
       "                        random_state=1563826017),\n",
       " DecisionTreeClassifier(max_depth=4, max_features='auto', min_samples_split=0.01,\n",
       "                        random_state=210240928),\n",
       " DecisionTreeClassifier(max_depth=4, max_features='auto', min_samples_split=0.01,\n",
       "                        random_state=1706993262),\n",
       " DecisionTreeClassifier(max_depth=4, max_features='auto', min_samples_split=0.01,\n",
       "                        random_state=2101970654),\n",
       " DecisionTreeClassifier(max_depth=4, max_features='auto', min_samples_split=0.01,\n",
       "                        random_state=994096562),\n",
       " DecisionTreeClassifier(max_depth=4, max_features='auto', min_samples_split=0.01,\n",
       "                        random_state=1019372731),\n",
       " DecisionTreeClassifier(max_depth=4, max_features='auto', min_samples_split=0.01,\n",
       "                        random_state=792341094),\n",
       " DecisionTreeClassifier(max_depth=4, max_features='auto', min_samples_split=0.01,\n",
       "                        random_state=211416552),\n",
       " DecisionTreeClassifier(max_depth=4, max_features='auto', min_samples_split=0.01,\n",
       "                        random_state=1337174001),\n",
       " DecisionTreeClassifier(max_depth=4, max_features='auto', min_samples_split=0.01,\n",
       "                        random_state=187976473),\n",
       " DecisionTreeClassifier(max_depth=4, max_features='auto', min_samples_split=0.01,\n",
       "                        random_state=293639765),\n",
       " DecisionTreeClassifier(max_depth=4, max_features='auto', min_samples_split=0.01,\n",
       "                        random_state=626627215),\n",
       " DecisionTreeClassifier(max_depth=4, max_features='auto', min_samples_split=0.01,\n",
       "                        random_state=1439273457),\n",
       " DecisionTreeClassifier(max_depth=4, max_features='auto', min_samples_split=0.01,\n",
       "                        random_state=1893596295),\n",
       " DecisionTreeClassifier(max_depth=4, max_features='auto', min_samples_split=0.01,\n",
       "                        random_state=297629802),\n",
       " DecisionTreeClassifier(max_depth=4, max_features='auto', min_samples_split=0.01,\n",
       "                        random_state=662424907),\n",
       " DecisionTreeClassifier(max_depth=4, max_features='auto', min_samples_split=0.01,\n",
       "                        random_state=311558730),\n",
       " DecisionTreeClassifier(max_depth=4, max_features='auto', min_samples_split=0.01,\n",
       "                        random_state=1581449487),\n",
       " DecisionTreeClassifier(max_depth=4, max_features='auto', min_samples_split=0.01,\n",
       "                        random_state=304588386),\n",
       " DecisionTreeClassifier(max_depth=4, max_features='auto', min_samples_split=0.01,\n",
       "                        random_state=870009919),\n",
       " DecisionTreeClassifier(max_depth=4, max_features='auto', min_samples_split=0.01,\n",
       "                        random_state=857620265),\n",
       " DecisionTreeClassifier(max_depth=4, max_features='auto', min_samples_split=0.01,\n",
       "                        random_state=1342160235),\n",
       " DecisionTreeClassifier(max_depth=4, max_features='auto', min_samples_split=0.01,\n",
       "                        random_state=1806749691),\n",
       " DecisionTreeClassifier(max_depth=4, max_features='auto', min_samples_split=0.01,\n",
       "                        random_state=309799238),\n",
       " DecisionTreeClassifier(max_depth=4, max_features='auto', min_samples_split=0.01,\n",
       "                        random_state=448385228),\n",
       " DecisionTreeClassifier(max_depth=4, max_features='auto', min_samples_split=0.01,\n",
       "                        random_state=1680919661),\n",
       " DecisionTreeClassifier(max_depth=4, max_features='auto', min_samples_split=0.01,\n",
       "                        random_state=1668016639),\n",
       " DecisionTreeClassifier(max_depth=4, max_features='auto', min_samples_split=0.01,\n",
       "                        random_state=1039699139),\n",
       " DecisionTreeClassifier(max_depth=4, max_features='auto', min_samples_split=0.01,\n",
       "                        random_state=280888013),\n",
       " DecisionTreeClassifier(max_depth=4, max_features='auto', min_samples_split=0.01,\n",
       "                        random_state=34751690),\n",
       " DecisionTreeClassifier(max_depth=4, max_features='auto', min_samples_split=0.01,\n",
       "                        random_state=2127002383),\n",
       " DecisionTreeClassifier(max_depth=4, max_features='auto', min_samples_split=0.01,\n",
       "                        random_state=1438288813),\n",
       " DecisionTreeClassifier(max_depth=4, max_features='auto', min_samples_split=0.01,\n",
       "                        random_state=2043098800),\n",
       " DecisionTreeClassifier(max_depth=4, max_features='auto', min_samples_split=0.01,\n",
       "                        random_state=130996008),\n",
       " DecisionTreeClassifier(max_depth=4, max_features='auto', min_samples_split=0.01,\n",
       "                        random_state=1214713810),\n",
       " DecisionTreeClassifier(max_depth=4, max_features='auto', min_samples_split=0.01,\n",
       "                        random_state=762487658),\n",
       " DecisionTreeClassifier(max_depth=4, max_features='auto', min_samples_split=0.01,\n",
       "                        random_state=798526670),\n",
       " DecisionTreeClassifier(max_depth=4, max_features='auto', min_samples_split=0.01,\n",
       "                        random_state=2108748285),\n",
       " DecisionTreeClassifier(max_depth=4, max_features='auto', min_samples_split=0.01,\n",
       "                        random_state=657008034),\n",
       " DecisionTreeClassifier(max_depth=4, max_features='auto', min_samples_split=0.01,\n",
       "                        random_state=378025418),\n",
       " DecisionTreeClassifier(max_depth=4, max_features='auto', min_samples_split=0.01,\n",
       "                        random_state=1437761323),\n",
       " DecisionTreeClassifier(max_depth=4, max_features='auto', min_samples_split=0.01,\n",
       "                        random_state=1067996413),\n",
       " DecisionTreeClassifier(max_depth=4, max_features='auto', min_samples_split=0.01,\n",
       "                        random_state=174507675),\n",
       " DecisionTreeClassifier(max_depth=4, max_features='auto', min_samples_split=0.01,\n",
       "                        random_state=1245525571),\n",
       " DecisionTreeClassifier(max_depth=4, max_features='auto', min_samples_split=0.01,\n",
       "                        random_state=664194032),\n",
       " DecisionTreeClassifier(max_depth=4, max_features='auto', min_samples_split=0.01,\n",
       "                        random_state=2059444123),\n",
       " DecisionTreeClassifier(max_depth=4, max_features='auto', min_samples_split=0.01,\n",
       "                        random_state=1153125458),\n",
       " DecisionTreeClassifier(max_depth=4, max_features='auto', min_samples_split=0.01,\n",
       "                        random_state=1949529635),\n",
       " DecisionTreeClassifier(max_depth=4, max_features='auto', min_samples_split=0.01,\n",
       "                        random_state=580460280),\n",
       " DecisionTreeClassifier(max_depth=4, max_features='auto', min_samples_split=0.01,\n",
       "                        random_state=617154444),\n",
       " DecisionTreeClassifier(max_depth=4, max_features='auto', min_samples_split=0.01,\n",
       "                        random_state=287801602),\n",
       " DecisionTreeClassifier(max_depth=4, max_features='auto', min_samples_split=0.01,\n",
       "                        random_state=1383922934),\n",
       " DecisionTreeClassifier(max_depth=4, max_features='auto', min_samples_split=0.01,\n",
       "                        random_state=198282577),\n",
       " DecisionTreeClassifier(max_depth=4, max_features='auto', min_samples_split=0.01,\n",
       "                        random_state=1233987125),\n",
       " DecisionTreeClassifier(max_depth=4, max_features='auto', min_samples_split=0.01,\n",
       "                        random_state=2033357886),\n",
       " DecisionTreeClassifier(max_depth=4, max_features='auto', min_samples_split=0.01,\n",
       "                        random_state=351387470),\n",
       " DecisionTreeClassifier(max_depth=4, max_features='auto', min_samples_split=0.01,\n",
       "                        random_state=190763130),\n",
       " DecisionTreeClassifier(max_depth=4, max_features='auto', min_samples_split=0.01,\n",
       "                        random_state=1440513173),\n",
       " DecisionTreeClassifier(max_depth=4, max_features='auto', min_samples_split=0.01,\n",
       "                        random_state=927078380)]"
      ]
     },
     "execution_count": 56,
     "metadata": {},
     "output_type": "execute_result"
    }
   ],
   "source": [
    "# Estimators\n",
    "# list of trees in random forest\n",
    "random_forest.estimators_"
   ]
  },
  {
   "cell_type": "code",
   "execution_count": 57,
   "metadata": {},
   "outputs": [
    {
     "data": {
      "text/plain": [
       "DecisionTreeClassifier(max_depth=4, max_features='auto', min_samples_split=0.01,\n",
       "                       random_state=527733210)"
      ]
     },
     "execution_count": 57,
     "metadata": {},
     "output_type": "execute_result"
    }
   ],
   "source": [
    "random_forest.estimators_[0]"
   ]
  },
  {
   "cell_type": "code",
   "execution_count": 15,
   "metadata": {},
   "outputs": [],
   "source": [
    "feature_importance = random_forest.feature_importances_"
   ]
  },
  {
   "cell_type": "code",
   "execution_count": 18,
   "metadata": {},
   "outputs": [
    {
     "data": {
      "text/plain": [
       "array([0.05958046, 0.00967633, 0.06116142, 0.0633642 , 0.00354115,\n",
       "       0.0147504 , 0.04434119, 0.14460413, 0.00174863, 0.00142119,\n",
       "       0.00703511, 0.00211009, 0.01587306, 0.03726035, 0.00188421,\n",
       "       0.00405477, 0.00392921, 0.00432833, 0.00259721, 0.00262149,\n",
       "       0.09616215, 0.01533506, 0.13841467, 0.07748365, 0.01341482,\n",
       "       0.01318556, 0.01974862, 0.12244633, 0.01084431, 0.00708191])"
      ]
     },
     "execution_count": 18,
     "metadata": {},
     "output_type": "execute_result"
    }
   ],
   "source": [
    "feature_importance"
   ]
  },
  {
   "cell_type": "code",
   "execution_count": 19,
   "metadata": {},
   "outputs": [
    {
     "data": {
      "text/plain": [
       "array(['radius_mean', 'texture_mean', 'perimeter_mean', 'area_mean',\n",
       "       'smoothness_mean', 'compactness_mean', 'concavity_mean',\n",
       "       'concave points_mean', 'symmetry_mean', 'fractal_dimension_mean',\n",
       "       'radius_se', 'texture_se', 'perimeter_se', 'area_se',\n",
       "       'smoothness_se', 'compactness_se', 'concavity_se',\n",
       "       'concave points_se', 'symmetry_se', 'fractal_dimension_se',\n",
       "       'radius_worst', 'texture_worst', 'perimeter_worst', 'area_worst',\n",
       "       'smoothness_worst', 'compactness_worst', 'concavity_worst',\n",
       "       'concave points_worst', 'symmetry_worst',\n",
       "       'fractal_dimension_worst'], dtype=object)"
      ]
     },
     "execution_count": 19,
     "metadata": {},
     "output_type": "execute_result"
    }
   ],
   "source": [
    "feature_name = X.columns.to_numpy()\n",
    "feature_name"
   ]
  },
  {
   "cell_type": "code",
   "execution_count": 24,
   "metadata": {},
   "outputs": [
    {
     "data": {
      "text/plain": [
       "array([0, 2, 4, 6, 8])"
      ]
     },
     "execution_count": 24,
     "metadata": {},
     "output_type": "execute_result"
    }
   ],
   "source": [
    "np.arange(100)[0:10:2]"
   ]
  },
  {
   "cell_type": "code",
   "execution_count": 22,
   "metadata": {},
   "outputs": [
    {
     "data": {
      "text/plain": [
       "array([0.14460413, 0.13841467, 0.12244633, 0.09616215, 0.07748365,\n",
       "       0.0633642 , 0.06116142, 0.05958046, 0.04434119, 0.03726035,\n",
       "       0.01974862, 0.01587306, 0.01533506, 0.0147504 , 0.01341482,\n",
       "       0.01318556, 0.01084431, 0.00967633, 0.00708191, 0.00703511,\n",
       "       0.00432833, 0.00405477, 0.00392921, 0.00354115, 0.00262149,\n",
       "       0.00259721, 0.00211009, 0.00188421, 0.00174863, 0.00142119])"
      ]
     },
     "execution_count": 22,
     "metadata": {},
     "output_type": "execute_result"
    }
   ],
   "source": [
    "feature_importance[sorted_idx[::-1]]"
   ]
  },
  {
   "cell_type": "code",
   "execution_count": 21,
   "metadata": {},
   "outputs": [
    {
     "data": {
      "text/plain": [
       "array(['fractal_dimension_mean', 'symmetry_mean', 'smoothness_se',\n",
       "       'texture_se', 'symmetry_se', 'fractal_dimension_se',\n",
       "       'smoothness_mean', 'concavity_se', 'compactness_se',\n",
       "       'concave points_se', 'radius_se', 'fractal_dimension_worst',\n",
       "       'texture_mean', 'symmetry_worst', 'compactness_worst',\n",
       "       'smoothness_worst', 'compactness_mean', 'texture_worst',\n",
       "       'perimeter_se', 'concavity_worst', 'area_se', 'concavity_mean',\n",
       "       'radius_mean', 'perimeter_mean', 'area_mean', 'area_worst',\n",
       "       'radius_worst', 'concave points_worst', 'perimeter_worst',\n",
       "       'concave points_mean'], dtype=object)"
      ]
     },
     "execution_count": 21,
     "metadata": {},
     "output_type": "execute_result"
    }
   ],
   "source": [
    "feature_name[sorted_idx]"
   ]
  },
  {
   "cell_type": "code",
   "execution_count": 17,
   "metadata": {},
   "outputs": [
    {
     "data": {
      "image/png": "[encoded data removed]",
      "text/plain": [
       "<Figure size 720x1080 with 1 Axes>"
      ]
     },
     "metadata": {
      "needs_background": "light"
     },
     "output_type": "display_data"
    }
   ],
   "source": [
    "import matplotlib.pyplot as plt\n",
    "sorted_idx = feature_importance.argsort()\n",
    "y_ticks = np.arange(0, len(feature_name))\n",
    "fig, ax = plt.subplots(figsize=(10,15))\n",
    "ax.barh(y_ticks, feature_importance[sorted_idx])\n",
    "ax.set_yticklabels(feature_name[sorted_idx])\n",
    "ax.set_yticks(y_ticks)\n",
    "ax.set_title(\"Random Forest Feature Importances based on impurity\")\n",
    "fig.tight_layout()\n",
    "plt.show()\n"
   ]
  },
  {
   "cell_type": "code",
   "execution_count": 25,
   "metadata": {},
   "outputs": [
    {
     "data": {
      "text/plain": [
       "0.9578207381370826"
      ]
     },
     "execution_count": 25,
     "metadata": {},
     "output_type": "execute_result"
    }
   ],
   "source": [
    "# out of bag (OOB) score\n",
    "random_forest.oob_score_"
   ]
  },
  {
   "cell_type": "code",
   "execution_count": 26,
   "metadata": {},
   "outputs": [
    {
     "name": "stdout",
     "output_type": "stream",
     "text": [
      "[[356   1]\n",
      " [  7 205]]\n"
     ]
    }
   ],
   "source": [
    "y_pred = random_forest.predict(X)\n",
    "\n",
    "con_mat_rf = confusion_matrix(y, y_pred)\n",
    "acc = accuracy_score(y, y_pred)\n",
    "# f1 = f1_score(y, y_pred)\n",
    "print(con_mat_rf)"
   ]
  },
  {
   "cell_type": "code",
   "execution_count": null,
   "metadata": {},
   "outputs": [],
   "source": [
    "# ExtraTreesClassifier"
   ]
  },
  {
   "cell_type": "markdown",
   "metadata": {},
   "source": [
    "## AdaBoost"
   ]
  },
  {
   "cell_type": "code",
   "execution_count": 33,
   "metadata": {},
   "outputs": [],
   "source": [
    "?AdaBoostClassifier"
   ]
  },
  {
   "cell_type": "markdown",
   "metadata": {},
   "source": [
    "## 주요 파라미터\n",
    "\n",
    "### base_estimator\n",
    "### n_estimators"
   ]
  },
  {
   "cell_type": "code",
   "execution_count": 28,
   "metadata": {},
   "outputs": [
    {
     "data": {
      "text/plain": [
       "AdaBoostClassifier(n_estimators=20)"
      ]
     },
     "execution_count": 28,
     "metadata": {},
     "output_type": "execute_result"
    }
   ],
   "source": [
    "adaboost = AdaBoostClassifier(n_estimators=20)\n",
    "adaboost.fit(X, y)"
   ]
  },
  {
   "cell_type": "code",
   "execution_count": 29,
   "metadata": {},
   "outputs": [
    {
     "name": "stdout",
     "output_type": "stream",
     "text": [
      "[1. 1. 1. 1. 1. 1. 1. 1. 1. 1. 1. 1. 1. 1. 1. 1. 1. 1. 1. 1.]\n",
      "[0.07732865 0.11743357 0.17373872 0.26356926 0.21315326 0.30836757\n",
      " 0.28119699 0.29502218 0.33516154 0.31113768 0.25637993 0.32538881\n",
      " 0.31996723 0.30656901 0.27291279 0.29671097 0.27948102 0.325612\n",
      " 0.31507775 0.38020668]\n"
     ]
    }
   ],
   "source": [
    "# Esimators information\n",
    "print(adaboost.estimator_weights_)\n",
    "print(adaboost.estimator_errors_)"
   ]
  },
  {
   "cell_type": "code",
   "execution_count": 30,
   "metadata": {},
   "outputs": [
    {
     "data": {
      "text/plain": [
       "[DecisionTreeClassifier(max_depth=1, random_state=63329341),\n",
       " DecisionTreeClassifier(max_depth=1, random_state=1082392206),\n",
       " DecisionTreeClassifier(max_depth=1, random_state=967181313),\n",
       " DecisionTreeClassifier(max_depth=1, random_state=999236382),\n",
       " DecisionTreeClassifier(max_depth=1, random_state=675492003),\n",
       " DecisionTreeClassifier(max_depth=1, random_state=708766365),\n",
       " DecisionTreeClassifier(max_depth=1, random_state=14354088),\n",
       " DecisionTreeClassifier(max_depth=1, random_state=157546311),\n",
       " DecisionTreeClassifier(max_depth=1, random_state=1997469006),\n",
       " DecisionTreeClassifier(max_depth=1, random_state=1227815538),\n",
       " DecisionTreeClassifier(max_depth=1, random_state=512469864),\n",
       " DecisionTreeClassifier(max_depth=1, random_state=1608659423),\n",
       " DecisionTreeClassifier(max_depth=1, random_state=427818718),\n",
       " DecisionTreeClassifier(max_depth=1, random_state=1815224205),\n",
       " DecisionTreeClassifier(max_depth=1, random_state=718493839),\n",
       " DecisionTreeClassifier(max_depth=1, random_state=2087899219),\n",
       " DecisionTreeClassifier(max_depth=1, random_state=1227040095),\n",
       " DecisionTreeClassifier(max_depth=1, random_state=715823778),\n",
       " DecisionTreeClassifier(max_depth=1, random_state=1693309310),\n",
       " DecisionTreeClassifier(max_depth=1, random_state=1186145252)]"
      ]
     },
     "execution_count": 30,
     "metadata": {},
     "output_type": "execute_result"
    }
   ],
   "source": [
    "# list of trees in adabosst\n",
    "adaboost.estimators_"
   ]
  },
  {
   "cell_type": "code",
   "execution_count": 31,
   "metadata": {},
   "outputs": [
    {
     "data": {
      "text/plain": [
       "DecisionTreeClassifier(max_depth=1, random_state=1082392206)"
      ]
     },
     "execution_count": 31,
     "metadata": {},
     "output_type": "execute_result"
    }
   ],
   "source": [
    "adaboost.estimators_[1]"
   ]
  },
  {
   "cell_type": "code",
   "execution_count": 32,
   "metadata": {},
   "outputs": [
    {
     "name": "stdout",
     "output_type": "stream",
     "text": [
      "[0.   0.05 0.   0.   0.05 0.05 0.   0.1  0.   0.   0.   0.05 0.   0.15\n",
      " 0.   0.05 0.   0.   0.   0.05 0.05 0.15 0.   0.05 0.   0.   0.05 0.1\n",
      " 0.   0.05]\n"
     ]
    }
   ],
   "source": [
    "# feature importance\n",
    "feature_importance_ada = adaboost.feature_importances_\n",
    "print(feature_importance_ada)"
   ]
  },
  {
   "cell_type": "code",
   "execution_count": 34,
   "metadata": {},
   "outputs": [
    {
     "data": {
      "image/png": "[encoded data removed]",
      "text/plain": [
       "<Figure size 720x1080 with 1 Axes>"
      ]
     },
     "metadata": {
      "needs_background": "light"
     },
     "output_type": "display_data"
    }
   ],
   "source": [
    "import matplotlib.pyplot as plt\n",
    "sorted_idx = feature_importance_ada.argsort()\n",
    "y_ticks = np.arange(0, len(feature_name))\n",
    "fig, ax = plt.subplots(figsize=(10,15))\n",
    "ax.barh(y_ticks, feature_importance_ada[sorted_idx])\n",
    "ax.set_yticklabels(feature_name[sorted_idx])\n",
    "ax.set_yticks(y_ticks)\n",
    "ax.set_title(\"AdaBoost Feature Importances based on impurity\")\n",
    "fig.tight_layout()\n",
    "# plt.tight_layout()\n",
    "plt.show()\n"
   ]
  },
  {
   "cell_type": "code",
   "execution_count": 35,
   "metadata": {},
   "outputs": [
    {
     "name": "stdout",
     "output_type": "stream",
     "text": [
      "[[357   0]\n",
      " [  0 212]]\n"
     ]
    }
   ],
   "source": [
    "y_pred = adaboost.predict(X)\n",
    "\n",
    "con_mat = confusion_matrix(y, y_pred)\n",
    "acc = accuracy_score(y, y_pred)\n",
    "# f1 = f1_score(y, y_pred)\n",
    "print(con_mat)"
   ]
  },
  {
   "cell_type": "markdown",
   "metadata": {},
   "source": [
    "# GradientBoosting"
   ]
  },
  {
   "cell_type": "code",
   "execution_count": 36,
   "metadata": {},
   "outputs": [],
   "source": [
    "?GradientBoostingClassifier"
   ]
  },
  {
   "cell_type": "code",
   "execution_count": 37,
   "metadata": {},
   "outputs": [
    {
     "name": "stdout",
     "output_type": "stream",
     "text": [
      "[[357   0]\n",
      " [  0 212]]\n"
     ]
    }
   ],
   "source": [
    "gb = GradientBoostingClassifier()\n",
    "gb.fit(X, y)\n",
    "\n",
    "y_pred = gb.predict(X)\n",
    "\n",
    "con_mat = confusion_matrix(y, y_pred)\n",
    "acc = accuracy_score(y, y_pred)\n",
    "print(con_mat)"
   ]
  },
  {
   "cell_type": "markdown",
   "metadata": {},
   "source": [
    "# Majority Voting"
   ]
  },
  {
   "cell_type": "code",
   "execution_count": 39,
   "metadata": {},
   "outputs": [],
   "source": [
    "# 세 개의 다른 모형을 합쳐 다수결로 분류\n",
    "# 3개 기본 모델 생성\n",
    "model1 = LogisticRegression(max_iter=10000)  # 수렴을 위해 max_iter 입력\n",
    "model2 = QuadraticDiscriminantAnalysis()\n",
    "model3 = DecisionTreeClassifier()\n",
    "\n",
    "# 3개 모형의 조합을 이용한 앙상블 분류기 생성\n",
    "estimator_list = [('lr', model1), \n",
    "                 ('qda', model2), \n",
    "                 ('dt', model3)]\n",
    "ensemble = VotingClassifier(estimators=estimator_list, \n",
    "                           voting='soft')"
   ]
  },
  {
   "cell_type": "code",
   "execution_count": 42,
   "metadata": {},
   "outputs": [
    {
     "name": "stdout",
     "output_type": "stream",
     "text": [
      "========================================\n",
      "LogisticRegression\n",
      "Accuracy: 0.9578207381370826\n",
      "AUC: 0.9947016542466043\n",
      "========================================\n",
      "QuadraticDiscriminantAnalysis\n",
      "Accuracy: 0.9736379613356766\n",
      "AUC: 0.9953490830294383\n",
      "========================================\n",
      "DecisionTree\n",
      "Accuracy: 1.0\n",
      "AUC: 1.0\n",
      "========================================\n",
      "Voting\n",
      "Accuracy: 0.984182776801406\n",
      "AUC: 0.9996696791924318\n"
     ]
    }
   ],
   "source": [
    "# for문에서 이름과 함께 출력하기 위해 아래 dictionary 선언\n",
    "model_dict = {'LogisticRegression': model1, \n",
    "             'QuadraticDiscriminantAnalysis': model2, \n",
    "             'DecisionTree': model3, \n",
    "             'Voting': ensemble}\n",
    "\n",
    "# 각 모형에 대해 Accuracy, AUC 출력\n",
    "for model_name, model in model_dict.items():\n",
    "    model.fit(X, y)\n",
    "    \n",
    "    y_pred = model.predict(X)\n",
    "    y_prob = model.predict_proba(X)\n",
    "    \n",
    "    acc = accuracy_score(y, y_pred)\n",
    "    auc = roc_auc_score(y, y_prob[:, 1])\n",
    "    \n",
    "    print('='*40)\n",
    "    print(model_name)\n",
    "    print('Accuracy:', acc)\n",
    "    print('AUC:', auc)"
   ]
  },
  {
   "cell_type": "code",
   "execution_count": 43,
   "metadata": {},
   "outputs": [
    {
     "data": {
      "text/plain": [
       "dict_items([('LogisticRegression', LogisticRegression(max_iter=10000)), ('QuadraticDiscriminantAnalysis', QuadraticDiscriminantAnalysis()), ('DecisionTree', DecisionTreeClassifier()), ('Voting', VotingClassifier(estimators=[('lr', LogisticRegression(max_iter=10000)),\n",
       "                             ('qda', QuadraticDiscriminantAnalysis()),\n",
       "                             ('dt', DecisionTreeClassifier())],\n",
       "                 voting='soft'))])"
      ]
     },
     "execution_count": 43,
     "metadata": {},
     "output_type": "execute_result"
    }
   ],
   "source": [
    "model_dict.items()"
   ]
  },
  {
   "cell_type": "code",
   "execution_count": 44,
   "metadata": {},
   "outputs": [
    {
     "name": "stdout",
     "output_type": "stream",
     "text": [
      "Seed: 818\n",
      "==============================\n",
      "LogisticRegression\n",
      "[0.95604396 0.97802198 0.94945055 0.96483516 0.95614035]\n",
      "[0.96491228 0.92105263 0.98245614 0.93859649 0.96460177]\n",
      "==============================\n",
      "QuadraticDiscriminantAnalysis\n",
      "[0.97142857 0.97802198 0.97802198 0.97582418 0.97368421]\n",
      "[0.95614035 0.92105263 0.97368421 0.98245614 0.9380531 ]\n",
      "==============================\n",
      "DecisionTree\n",
      "[1. 1. 1. 1. 1.]\n",
      "[0.9122807  0.88596491 0.89473684 0.94736842 0.94690265]\n",
      "==============================\n",
      "Voting\n",
      "[0.98681319 0.99120879 0.98901099 0.99120879 0.98903509]\n",
      "[0.97368421 0.92105263 0.97368421 0.98245614 0.95575221]\n"
     ]
    }
   ],
   "source": [
    "# 각 모형에 대해 5-fold CV의 Accuracy, AUC 출력\n",
    "from sklearn.model_selection import KFold, cross_validate\n",
    "seed = np.random.choice(1000)\n",
    "print('Seed:', seed)\n",
    "\n",
    "kf = KFold(n_splits=5, shuffle=True, random_state=seed)\n",
    "for model_name, model in model_dict.items():\n",
    "    scores = cross_validate(model, X, y, \n",
    "                            scoring='accuracy', \n",
    "                            return_train_score=True, \n",
    "                            cv=kf)\n",
    "    print('='*30)\n",
    "    print(model_name)\n",
    "    print(scores['train_score'])\n",
    "    print(scores['test_score'])"
   ]
  },
  {
   "cell_type": "code",
   "execution_count": 45,
   "metadata": {},
   "outputs": [
    {
     "data": {
      "text/plain": [
       "{'fit_time': array([0.98435688, 0.77625132, 0.83518839, 0.9226234 , 1.04521275]),\n",
       " 'score_time': array([0.00722098, 0.00936103, 0.00798821, 0.00796509, 0.00799274]),\n",
       " 'test_score': array([0.97368421, 0.92105263, 0.97368421, 0.98245614, 0.95575221]),\n",
       " 'train_score': array([0.98681319, 0.99120879, 0.98901099, 0.99120879, 0.98903509])}"
      ]
     },
     "execution_count": 45,
     "metadata": {},
     "output_type": "execute_result"
    }
   ],
   "source": [
    "scores"
   ]
  },
  {
   "attachments": {
    "image.png": {
     "image/png": "[encoded data removed]"
    }
   },
   "cell_type": "markdown",
   "metadata": {},
   "source": [
    "![image.png](attachment:image.png)"
   ]
  },
  {
   "cell_type": "markdown",
   "metadata": {},
   "source": [
    "# 실습\n",
    "\n",
    "## AdaBoost, RandomForest 비교\n",
    "\n",
    "## 5-Fold cross validation (cross_validate 사용)\n",
    "\n",
    "## X, y에 대해 5-fold train, test 평균 accuracy 계산"
   ]
  },
  {
   "cell_type": "code",
   "execution_count": 48,
   "metadata": {},
   "outputs": [
    {
     "name": "stdout",
     "output_type": "stream",
     "text": [
      "Seed: 255\n"
     ]
    }
   ],
   "source": [
    "seed = np.random.choice(1000)\n",
    "print('Seed:', seed)\n",
    "\n",
    "kf = KFold(n_splits=5, shuffle=True, random_state=seed)\n",
    "\n",
    "adaboost = AdaBoostClassifier()\n",
    "random_forest = RandomForestClassifier()\n",
    "\n",
    "scores_ada = cross_validate(adaboost, X, y,\n",
    "                       scoring='accuracy', \n",
    "                       cv=kf, \n",
    "                       return_train_score=True)\n",
    "\n",
    "scores_rf = cross_validate(random_forest, X, y, \n",
    "                          scoring='accuracy', \n",
    "                          cv=kf, \n",
    "                          return_train_score=True)"
   ]
  },
  {
   "cell_type": "code",
   "execution_count": 49,
   "metadata": {},
   "outputs": [
    {
     "data": {
      "text/plain": [
       "{'fit_time': array([0.1409831 , 0.13903975, 0.13736057, 0.1373105 , 0.13747263]),\n",
       " 'score_time': array([0.00812292, 0.00795126, 0.00798416, 0.00807691, 0.00787687]),\n",
       " 'test_score': array([0.98245614, 0.97368421, 0.95614035, 0.92982456, 0.96460177]),\n",
       " 'train_score': array([1., 1., 1., 1., 1.])}"
      ]
     },
     "execution_count": 49,
     "metadata": {},
     "output_type": "execute_result"
    }
   ],
   "source": [
    "scores_ada"
   ]
  },
  {
   "cell_type": "code",
   "execution_count": 50,
   "metadata": {
    "scrolled": true
   },
   "outputs": [
    {
     "name": "stdout",
     "output_type": "stream",
     "text": [
      "Adaboost Train Acc: 1.0\n",
      "Adaboost Test Acc: 0.9613414066138798\n",
      "RandomForest Train Acc: 0.9995604395604396\n",
      "RandomForest Test Acc: 0.9596180717279925\n"
     ]
    }
   ],
   "source": [
    "print('Adaboost Train Acc:', np.mean(scores_ada['train_score']))\n",
    "print('Adaboost Test Acc:', np.mean(scores_ada['test_score']))\n",
    "\n",
    "print('RandomForest Train Acc:', np.mean(scores_rf['train_score']))\n",
    "print('RandomForest Test Acc:', np.mean(scores_rf['test_score']))"
   ]
  },
  {
   "cell_type": "code",
   "execution_count": 54,
   "metadata": {
    "scrolled": true
   },
   "outputs": [
    {
     "name": "stdout",
     "output_type": "stream",
     "text": [
      "['B' 'M']\n"
     ]
    }
   ],
   "source": [
    "from sklearn.preprocessing import LabelEncoder\n",
    "le = LabelEncoder()\n",
    "y_new = le.fit_transform(y)\n",
    "print(le.classes_)"
   ]
  },
  {
   "cell_type": "code",
   "execution_count": 55,
   "metadata": {
    "collapsed": true
   },
   "outputs": [
    {
     "data": {
      "text/plain": [
       "array(['M', 'M', 'M', 'M', 'M', 'M', 'M', 'M', 'M', 'M', 'M', 'M', 'M',\n",
       "       'M', 'M', 'M', 'M', 'M', 'M', 'B', 'B', 'B', 'M', 'M', 'M', 'M',\n",
       "       'M', 'M', 'M', 'M', 'M', 'M', 'M', 'M', 'M', 'M', 'M', 'B', 'M',\n",
       "       'M', 'M', 'M', 'M', 'M', 'M', 'M', 'B', 'M', 'B', 'B', 'B', 'B',\n",
       "       'B', 'M', 'M', 'B', 'M', 'M', 'B', 'B', 'B', 'B', 'M', 'B', 'M',\n",
       "       'M', 'B', 'B', 'B', 'B', 'M', 'B', 'M', 'M', 'B', 'M', 'B', 'M',\n",
       "       'M', 'B', 'B', 'B', 'M', 'M', 'B', 'M', 'M', 'M', 'B', 'B', 'B',\n",
       "       'M', 'B', 'B', 'M', 'M', 'B', 'B', 'B', 'M', 'M', 'B', 'B', 'B',\n",
       "       'B', 'M', 'B', 'B', 'M', 'B', 'B', 'B', 'B', 'B', 'B', 'B', 'B',\n",
       "       'M', 'M', 'M', 'B', 'M', 'M', 'B', 'B', 'B', 'M', 'M', 'B', 'M',\n",
       "       'B', 'M', 'M', 'B', 'M', 'M', 'B', 'B', 'M', 'B', 'B', 'M', 'B',\n",
       "       'B', 'B', 'B', 'M', 'B', 'B', 'B', 'B', 'B', 'B', 'B', 'B', 'B',\n",
       "       'M', 'B', 'B', 'B', 'B', 'M', 'M', 'B', 'M', 'B', 'B', 'M', 'M',\n",
       "       'B', 'B', 'M', 'M', 'B', 'B', 'B', 'B', 'M', 'B', 'B', 'M', 'M',\n",
       "       'M', 'B', 'M', 'B', 'M', 'B', 'B', 'B', 'M', 'B', 'B', 'M', 'M',\n",
       "       'B', 'M', 'M', 'M', 'M', 'B', 'M', 'M', 'M', 'B', 'M', 'B', 'M',\n",
       "       'B', 'B', 'M', 'B', 'M', 'M', 'M', 'M', 'B', 'B', 'M', 'M', 'B',\n",
       "       'B', 'B', 'M', 'B', 'B', 'B', 'B', 'B', 'M', 'M', 'B', 'B', 'M',\n",
       "       'B', 'B', 'M', 'M', 'B', 'M', 'B', 'B', 'B', 'B', 'M', 'B', 'B',\n",
       "       'B', 'B', 'B', 'M', 'B', 'M', 'M', 'M', 'M', 'M', 'M', 'M', 'M',\n",
       "       'M', 'M', 'M', 'M', 'M', 'M', 'B', 'B', 'B', 'B', 'B', 'B', 'M',\n",
       "       'B', 'M', 'B', 'B', 'M', 'B', 'B', 'M', 'B', 'M', 'M', 'B', 'B',\n",
       "       'B', 'B', 'B', 'B', 'B', 'B', 'B', 'B', 'B', 'B', 'B', 'M', 'B',\n",
       "       'B', 'M', 'B', 'M', 'B', 'B', 'B', 'B', 'B', 'B', 'B', 'B', 'B',\n",
       "       'B', 'B', 'B', 'B', 'B', 'M', 'B', 'B', 'B', 'M', 'B', 'M', 'B',\n",
       "       'B', 'B', 'B', 'M', 'M', 'M', 'B', 'B', 'B', 'B', 'M', 'B', 'M',\n",
       "       'B', 'M', 'B', 'B', 'B', 'M', 'B', 'B', 'B', 'B', 'B', 'B', 'B',\n",
       "       'M', 'M', 'M', 'B', 'B', 'B', 'B', 'B', 'B', 'B', 'B', 'B', 'B',\n",
       "       'B', 'M', 'M', 'B', 'M', 'M', 'M', 'B', 'M', 'M', 'B', 'B', 'B',\n",
       "       'B', 'B', 'M', 'B', 'B', 'B', 'B', 'B', 'M', 'B', 'B', 'B', 'M',\n",
       "       'B', 'B', 'M', 'M', 'B', 'B', 'B', 'B', 'B', 'B', 'M', 'B', 'B',\n",
       "       'B', 'B', 'B', 'B', 'B', 'M', 'B', 'B', 'B', 'B', 'B', 'M', 'B',\n",
       "       'B', 'M', 'B', 'B', 'B', 'B', 'B', 'B', 'B', 'B', 'B', 'B', 'B',\n",
       "       'B', 'M', 'B', 'M', 'M', 'B', 'M', 'B', 'B', 'B', 'B', 'B', 'M',\n",
       "       'B', 'B', 'M', 'B', 'M', 'B', 'B', 'M', 'B', 'M', 'B', 'B', 'B',\n",
       "       'B', 'B', 'B', 'B', 'B', 'M', 'M', 'B', 'B', 'B', 'B', 'B', 'B',\n",
       "       'M', 'B', 'B', 'B', 'B', 'B', 'B', 'B', 'B', 'B', 'B', 'M', 'B',\n",
       "       'B', 'B', 'B', 'B', 'B', 'B', 'M', 'B', 'M', 'B', 'B', 'M', 'B',\n",
       "       'B', 'B', 'B', 'B', 'M', 'M', 'B', 'M', 'B', 'M', 'B', 'B', 'B',\n",
       "       'B', 'B', 'M', 'B', 'B', 'M', 'B', 'M', 'B', 'M', 'M', 'B', 'B',\n",
       "       'B', 'M', 'B', 'B', 'B', 'B', 'B', 'B', 'B', 'B', 'B', 'B', 'B',\n",
       "       'M', 'B', 'M', 'M', 'B', 'B', 'B', 'B', 'B', 'B', 'B', 'B', 'B',\n",
       "       'B', 'B', 'B', 'B', 'B', 'B', 'B', 'B', 'B', 'B', 'B', 'B', 'B',\n",
       "       'B', 'B', 'B', 'M', 'M', 'M', 'M', 'M', 'M', 'B'], dtype=object)"
      ]
     },
     "execution_count": 55,
     "metadata": {},
     "output_type": "execute_result"
    }
   ],
   "source": [
    "le.inverse_transform(y_new)"
   ]
  },
  {
   "cell_type": "code",
   "execution_count": 56,
   "metadata": {},
   "outputs": [
    {
     "name": "stdout",
     "output_type": "stream",
     "text": [
      "Seed: 41\n"
     ]
    },
    {
     "data": {
      "text/plain": [
       "{'fit_time': array([0.1280725 , 0.1253531 , 0.12514257, 0.12501073, 0.12473726]),\n",
       " 'score_time': array([0.0091145 , 0.00890923, 0.00895524, 0.00896835, 0.00890183]),\n",
       " 'test_accuracy': array([0.99122807, 0.95614035, 0.97368421, 0.92105263, 0.99115044]),\n",
       " 'train_accuracy': array([1., 1., 1., 1., 1.]),\n",
       " 'test_recall': array([1.        , 0.90384615, 0.91891892, 0.86046512, 1.        ]),\n",
       " 'train_recall': array([1., 1., 1., 1., 1.]),\n",
       " 'test_precision': array([0.97560976, 1.        , 1.        , 0.925     , 0.97560976]),\n",
       " 'train_precision': array([1., 1., 1., 1., 1.])}"
      ]
     },
     "execution_count": 56,
     "metadata": {},
     "output_type": "execute_result"
    }
   ],
   "source": [
    "seed = np.random.choice(1000)\n",
    "print('Seed:', seed)\n",
    "\n",
    "kf = KFold(n_splits=5, shuffle=True, random_state=seed)\n",
    "\n",
    "adaboost = AdaBoostClassifier()\n",
    "\n",
    "scores_ada = cross_validate(adaboost, X, y_new,\n",
    "                       scoring=['accuracy', 'recall', 'precision'], \n",
    "                       cv=kf, \n",
    "                       return_train_score=True)\n",
    "scores_ada"
   ]
  },
  {
   "cell_type": "code",
   "execution_count": null,
   "metadata": {},
   "outputs": [],
   "source": []
  },
  {
   "cell_type": "code",
   "execution_count": null,
   "metadata": {},
   "outputs": [],
   "source": []
  },
  {
   "cell_type": "code",
   "execution_count": null,
   "metadata": {},
   "outputs": [],
   "source": []
  },
  {
   "cell_type": "code",
   "execution_count": null,
   "metadata": {},
   "outputs": [],
   "source": []
  }
 ],
 "metadata": {
  "kernelspec": {
   "display_name": "Python 3",
   "language": "python",
   "name": "python3"
  },
  "language_info": {
   "codemirror_mode": {
    "name": "ipython",
    "version": 3
   },
   "file_extension": ".py",
   "mimetype": "text/x-python",
   "name": "python",
   "nbconvert_exporter": "python",
   "pygments_lexer": "ipython3",
   "version": "3.8.5"
  }
 },
 "nbformat": 4,
 "nbformat_minor": 4
}
