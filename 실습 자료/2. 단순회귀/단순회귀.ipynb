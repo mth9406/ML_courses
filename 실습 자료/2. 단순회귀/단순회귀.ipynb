{
 "cells": [
  {
   "cell_type": "markdown",
   "metadata": {},
   "source": [
    "# 기초 회귀 분석  \n",
    "* 단순 회귀"
   ]
  },
  {
   "cell_type": "markdown",
   "metadata": {},
   "source": [
    "[공공데이터 포털](https://www.data.go.kr/index.do)  \n",
    "[국가데이터 포털](http://kosis.kr/index/index.do;jsessionid=scj4MBBcLckIlSdvyCGUz5NbVjZw1iImrtabzwXaOV87aNPoV2evvfX059UazXWa.STAT_WAS2_servlet_engine1)   \n",
    "[통계청](http://kostat.go.kr/portal/korea/index.action)   \n",
    "[Kaggle Datasets](https://www.kaggle.com/datasets)"
   ]
  },
  {
   "cell_type": "markdown",
   "metadata": {},
   "source": [
    "## 기초 회귀  분석: 키와 몸무게의 상관 관계"
   ]
  },
  {
   "cell_type": "code",
   "execution_count": 1,
   "metadata": {},
   "outputs": [],
   "source": [
    "# 필요한 library 임포트\n",
    "import numpy as np\n",
    "import pandas as pd\n",
    "import matplotlib.pyplot as plt\n",
    "import seaborn as sns"
   ]
  },
  {
   "cell_type": "code",
   "execution_count": 2,
   "metadata": {},
   "outputs": [],
   "source": [
    "import warnings\n",
    "\n",
    "warnings.filterwarnings(action='ignore')\n",
    "# warnings.filterwarnings(action='default')"
   ]
  },
  {
   "cell_type": "markdown",
   "metadata": {},
   "source": [
    "### 데이터 불러오기 및 전처리"
   ]
  },
  {
   "cell_type": "code",
   "execution_count": 3,
   "metadata": {},
   "outputs": [],
   "source": [
    "df = pd.read_csv('./student.csv', engine = 'python', encoding= 'cp949')"
   ]
  },
  {
   "cell_type": "code",
   "execution_count": 4,
   "metadata": {},
   "outputs": [
    {
     "data": {
      "text/html": [
       "<div>\n",
       "<style scoped>\n",
       "    .dataframe tbody tr th:only-of-type {\n",
       "        vertical-align: middle;\n",
       "    }\n",
       "\n",
       "    .dataframe tbody tr th {\n",
       "        vertical-align: top;\n",
       "    }\n",
       "\n",
       "    .dataframe thead th {\n",
       "        text-align: right;\n",
       "    }\n",
       "</style>\n",
       "<table border=\"1\" class=\"dataframe\">\n",
       "  <thead>\n",
       "    <tr style=\"text-align: right;\">\n",
       "      <th></th>\n",
       "      <th>ID</th>\n",
       "      <th>최종가중치</th>\n",
       "      <th>학교ID</th>\n",
       "      <th>도시규모</th>\n",
       "      <th>도시규모별분석용</th>\n",
       "      <th>학년도</th>\n",
       "      <th>광역시도</th>\n",
       "      <th>시도별</th>\n",
       "      <th>학교급별</th>\n",
       "      <th>학교명</th>\n",
       "      <th>...</th>\n",
       "      <th>키</th>\n",
       "      <th>몸무게</th>\n",
       "      <th>혈당식전mgdl</th>\n",
       "      <th>총콜레스테롤mgdl</th>\n",
       "      <th>ASTUL</th>\n",
       "      <th>ALTUL</th>\n",
       "      <th>혈색소gdl</th>\n",
       "      <th>간염검사</th>\n",
       "      <th>수축기</th>\n",
       "      <th>이완기</th>\n",
       "    </tr>\n",
       "  </thead>\n",
       "  <tbody>\n",
       "    <tr>\n",
       "      <th>0</th>\n",
       "      <td>Aa011남10101</td>\n",
       "      <td>169.550665</td>\n",
       "      <td>Aa01</td>\n",
       "      <td>대도시/중소도시</td>\n",
       "      <td>특별/광역시</td>\n",
       "      <td>2015</td>\n",
       "      <td>서울</td>\n",
       "      <td>서울특별시교육청</td>\n",
       "      <td>1</td>\n",
       "      <td>서울대도초등학교</td>\n",
       "      <td>...</td>\n",
       "      <td>125.8</td>\n",
       "      <td>27.3</td>\n",
       "      <td>NaN</td>\n",
       "      <td>NaN</td>\n",
       "      <td>NaN</td>\n",
       "      <td>NaN</td>\n",
       "      <td>NaN</td>\n",
       "      <td>NaN</td>\n",
       "      <td>77.0</td>\n",
       "      <td>58.0</td>\n",
       "    </tr>\n",
       "    <tr>\n",
       "      <th>1</th>\n",
       "      <td>Aa011남10102</td>\n",
       "      <td>169.550665</td>\n",
       "      <td>Aa01</td>\n",
       "      <td>대도시/중소도시</td>\n",
       "      <td>특별/광역시</td>\n",
       "      <td>2015</td>\n",
       "      <td>서울</td>\n",
       "      <td>서울특별시교육청</td>\n",
       "      <td>1</td>\n",
       "      <td>서울대도초등학교</td>\n",
       "      <td>...</td>\n",
       "      <td>124.3</td>\n",
       "      <td>25.4</td>\n",
       "      <td>NaN</td>\n",
       "      <td>NaN</td>\n",
       "      <td>NaN</td>\n",
       "      <td>NaN</td>\n",
       "      <td>NaN</td>\n",
       "      <td>NaN</td>\n",
       "      <td>83.0</td>\n",
       "      <td>51.0</td>\n",
       "    </tr>\n",
       "    <tr>\n",
       "      <th>2</th>\n",
       "      <td>Aa011남10103</td>\n",
       "      <td>169.550665</td>\n",
       "      <td>Aa01</td>\n",
       "      <td>대도시/중소도시</td>\n",
       "      <td>특별/광역시</td>\n",
       "      <td>2015</td>\n",
       "      <td>서울</td>\n",
       "      <td>서울특별시교육청</td>\n",
       "      <td>1</td>\n",
       "      <td>서울대도초등학교</td>\n",
       "      <td>...</td>\n",
       "      <td>119.2</td>\n",
       "      <td>23.5</td>\n",
       "      <td>NaN</td>\n",
       "      <td>NaN</td>\n",
       "      <td>NaN</td>\n",
       "      <td>NaN</td>\n",
       "      <td>NaN</td>\n",
       "      <td>NaN</td>\n",
       "      <td>103.0</td>\n",
       "      <td>65.0</td>\n",
       "    </tr>\n",
       "    <tr>\n",
       "      <th>3</th>\n",
       "      <td>Aa011남10104</td>\n",
       "      <td>169.550665</td>\n",
       "      <td>Aa01</td>\n",
       "      <td>대도시/중소도시</td>\n",
       "      <td>특별/광역시</td>\n",
       "      <td>2015</td>\n",
       "      <td>서울</td>\n",
       "      <td>서울특별시교육청</td>\n",
       "      <td>1</td>\n",
       "      <td>서울대도초등학교</td>\n",
       "      <td>...</td>\n",
       "      <td>115.0</td>\n",
       "      <td>20.0</td>\n",
       "      <td>NaN</td>\n",
       "      <td>NaN</td>\n",
       "      <td>NaN</td>\n",
       "      <td>NaN</td>\n",
       "      <td>NaN</td>\n",
       "      <td>NaN</td>\n",
       "      <td>92.0</td>\n",
       "      <td>66.0</td>\n",
       "    </tr>\n",
       "    <tr>\n",
       "      <th>4</th>\n",
       "      <td>Aa011남10105</td>\n",
       "      <td>169.550665</td>\n",
       "      <td>Aa01</td>\n",
       "      <td>대도시/중소도시</td>\n",
       "      <td>특별/광역시</td>\n",
       "      <td>2015</td>\n",
       "      <td>서울</td>\n",
       "      <td>서울특별시교육청</td>\n",
       "      <td>1</td>\n",
       "      <td>서울대도초등학교</td>\n",
       "      <td>...</td>\n",
       "      <td>120.0</td>\n",
       "      <td>33.5</td>\n",
       "      <td>NaN</td>\n",
       "      <td>NaN</td>\n",
       "      <td>NaN</td>\n",
       "      <td>NaN</td>\n",
       "      <td>NaN</td>\n",
       "      <td>NaN</td>\n",
       "      <td>102.0</td>\n",
       "      <td>59.0</td>\n",
       "    </tr>\n",
       "  </tbody>\n",
       "</table>\n",
       "<p>5 rows × 25 columns</p>\n",
       "</div>"
      ],
      "text/plain": [
       "            ID       최종가중치  학교ID      도시규모 도시규모별분석용   학년도 광역시도       시도별  \\\n",
       "0  Aa011남10101  169.550665  Aa01  대도시/중소도시   특별/광역시  2015   서울  서울특별시교육청   \n",
       "1  Aa011남10102  169.550665  Aa01  대도시/중소도시   특별/광역시  2015   서울  서울특별시교육청   \n",
       "2  Aa011남10103  169.550665  Aa01  대도시/중소도시   특별/광역시  2015   서울  서울특별시교육청   \n",
       "3  Aa011남10104  169.550665  Aa01  대도시/중소도시   특별/광역시  2015   서울  서울특별시교육청   \n",
       "4  Aa011남10105  169.550665  Aa01  대도시/중소도시   특별/광역시  2015   서울  서울특별시교육청   \n",
       "\n",
       "   학교급별       학교명  ...      키   몸무게  혈당식전mgdl 총콜레스테롤mgdl  ASTUL  ALTUL  \\\n",
       "0     1  서울대도초등학교  ...  125.8  27.3       NaN        NaN    NaN    NaN   \n",
       "1     1  서울대도초등학교  ...  124.3  25.4       NaN        NaN    NaN    NaN   \n",
       "2     1  서울대도초등학교  ...  119.2  23.5       NaN        NaN    NaN    NaN   \n",
       "3     1  서울대도초등학교  ...  115.0  20.0       NaN        NaN    NaN    NaN   \n",
       "4     1  서울대도초등학교  ...  120.0  33.5       NaN        NaN    NaN    NaN   \n",
       "\n",
       "   혈색소gdl  간염검사    수축기   이완기  \n",
       "0     NaN   NaN   77.0  58.0  \n",
       "1     NaN   NaN   83.0  51.0  \n",
       "2     NaN   NaN  103.0  65.0  \n",
       "3     NaN   NaN   92.0  66.0  \n",
       "4     NaN   NaN  102.0  59.0  \n",
       "\n",
       "[5 rows x 25 columns]"
      ]
     },
     "execution_count": 4,
     "metadata": {},
     "output_type": "execute_result"
    }
   ],
   "source": [
    "df.head()"
   ]
  },
  {
   "cell_type": "code",
   "execution_count": 5,
   "metadata": {},
   "outputs": [
    {
     "name": "stdout",
     "output_type": "stream",
     "text": [
      "<class 'pandas.core.frame.DataFrame'>\n",
      "RangeIndex: 9686 entries, 0 to 9685\n",
      "Data columns (total 25 columns):\n",
      " #   Column      Non-Null Count  Dtype  \n",
      "---  ------      --------------  -----  \n",
      " 0   ID          9686 non-null   object \n",
      " 1   최종가중치       9686 non-null   float64\n",
      " 2   학교ID        9686 non-null   object \n",
      " 3   도시규모        9686 non-null   object \n",
      " 4   도시규모별분석용    9686 non-null   object \n",
      " 5   학년도         9686 non-null   int64  \n",
      " 6   광역시도        9686 non-null   object \n",
      " 7   시도별         9686 non-null   object \n",
      " 8   학교급별        9686 non-null   int64  \n",
      " 9   학교명         9686 non-null   object \n",
      " 10  공학여부        9686 non-null   object \n",
      " 11  학년          9686 non-null   int64  \n",
      " 12  반           9686 non-null   int64  \n",
      " 13  성별          9686 non-null   object \n",
      " 14  건강검진일       9686 non-null   int64  \n",
      " 15  키           9686 non-null   float64\n",
      " 16  몸무게         9682 non-null   float64\n",
      " 17  혈당식전mgdl    338 non-null    float64\n",
      " 18  총콜레스테롤mgdl  339 non-null    float64\n",
      " 19  ASTUL       336 non-null    float64\n",
      " 20  ALTUL       337 non-null    float64\n",
      " 21  혈색소gdl      578 non-null    float64\n",
      " 22  간염검사        831 non-null    object \n",
      " 23  수축기         3025 non-null   float64\n",
      " 24  이완기         3025 non-null   float64\n",
      "dtypes: float64(10), int64(5), object(10)\n",
      "memory usage: 1.8+ MB\n"
     ]
    }
   ],
   "source": [
    "df.info()"
   ]
  },
  {
   "cell_type": "code",
   "execution_count": 6,
   "metadata": {},
   "outputs": [
    {
     "data": {
      "text/html": [
       "<div>\n",
       "<style scoped>\n",
       "    .dataframe tbody tr th:only-of-type {\n",
       "        vertical-align: middle;\n",
       "    }\n",
       "\n",
       "    .dataframe tbody tr th {\n",
       "        vertical-align: top;\n",
       "    }\n",
       "\n",
       "    .dataframe thead th {\n",
       "        text-align: right;\n",
       "    }\n",
       "</style>\n",
       "<table border=\"1\" class=\"dataframe\">\n",
       "  <thead>\n",
       "    <tr style=\"text-align: right;\">\n",
       "      <th></th>\n",
       "      <th>최종가중치</th>\n",
       "      <th>학년도</th>\n",
       "      <th>학교급별</th>\n",
       "      <th>학년</th>\n",
       "      <th>반</th>\n",
       "      <th>건강검진일</th>\n",
       "      <th>키</th>\n",
       "      <th>몸무게</th>\n",
       "      <th>혈당식전mgdl</th>\n",
       "      <th>총콜레스테롤mgdl</th>\n",
       "      <th>ASTUL</th>\n",
       "      <th>ALTUL</th>\n",
       "      <th>혈색소gdl</th>\n",
       "      <th>수축기</th>\n",
       "      <th>이완기</th>\n",
       "    </tr>\n",
       "  </thead>\n",
       "  <tbody>\n",
       "    <tr>\n",
       "      <th>count</th>\n",
       "      <td>9686.000000</td>\n",
       "      <td>9686.0</td>\n",
       "      <td>9686.000000</td>\n",
       "      <td>9686.000000</td>\n",
       "      <td>9686.000000</td>\n",
       "      <td>9.686000e+03</td>\n",
       "      <td>9686.000000</td>\n",
       "      <td>9682.000000</td>\n",
       "      <td>338.00000</td>\n",
       "      <td>339.000000</td>\n",
       "      <td>336.000000</td>\n",
       "      <td>337.000000</td>\n",
       "      <td>578.000000</td>\n",
       "      <td>3025.000000</td>\n",
       "      <td>3025.000000</td>\n",
       "    </tr>\n",
       "    <tr>\n",
       "      <th>mean</th>\n",
       "      <td>104.894487</td>\n",
       "      <td>2015.0</td>\n",
       "      <td>1.995767</td>\n",
       "      <td>2.567933</td>\n",
       "      <td>2.659096</td>\n",
       "      <td>2.015047e+07</td>\n",
       "      <td>154.564444</td>\n",
       "      <td>50.207591</td>\n",
       "      <td>92.14497</td>\n",
       "      <td>173.516519</td>\n",
       "      <td>27.824405</td>\n",
       "      <td>30.311573</td>\n",
       "      <td>12.976990</td>\n",
       "      <td>104.830083</td>\n",
       "      <td>62.987438</td>\n",
       "    </tr>\n",
       "    <tr>\n",
       "      <th>std</th>\n",
       "      <td>39.376988</td>\n",
       "      <td>0.0</td>\n",
       "      <td>0.856499</td>\n",
       "      <td>1.414243</td>\n",
       "      <td>2.601067</td>\n",
       "      <td>1.014788e+02</td>\n",
       "      <td>16.968590</td>\n",
       "      <td>17.075953</td>\n",
       "      <td>10.49571</td>\n",
       "      <td>32.567571</td>\n",
       "      <td>19.327395</td>\n",
       "      <td>32.191960</td>\n",
       "      <td>1.092454</td>\n",
       "      <td>12.661348</td>\n",
       "      <td>7.948402</td>\n",
       "    </tr>\n",
       "    <tr>\n",
       "      <th>min</th>\n",
       "      <td>23.325794</td>\n",
       "      <td>2015.0</td>\n",
       "      <td>1.000000</td>\n",
       "      <td>1.000000</td>\n",
       "      <td>1.000000</td>\n",
       "      <td>2.015023e+07</td>\n",
       "      <td>107.700000</td>\n",
       "      <td>15.900000</td>\n",
       "      <td>65.00000</td>\n",
       "      <td>102.000000</td>\n",
       "      <td>11.000000</td>\n",
       "      <td>8.000000</td>\n",
       "      <td>9.000000</td>\n",
       "      <td>65.000000</td>\n",
       "      <td>23.000000</td>\n",
       "    </tr>\n",
       "    <tr>\n",
       "      <th>25%</th>\n",
       "      <td>76.966829</td>\n",
       "      <td>2015.0</td>\n",
       "      <td>1.000000</td>\n",
       "      <td>1.000000</td>\n",
       "      <td>1.000000</td>\n",
       "      <td>2.015041e+07</td>\n",
       "      <td>142.000000</td>\n",
       "      <td>37.200000</td>\n",
       "      <td>85.00000</td>\n",
       "      <td>148.500000</td>\n",
       "      <td>19.000000</td>\n",
       "      <td>14.000000</td>\n",
       "      <td>12.400000</td>\n",
       "      <td>98.000000</td>\n",
       "      <td>60.000000</td>\n",
       "    </tr>\n",
       "    <tr>\n",
       "      <th>50%</th>\n",
       "      <td>99.963287</td>\n",
       "      <td>2015.0</td>\n",
       "      <td>2.000000</td>\n",
       "      <td>2.000000</td>\n",
       "      <td>1.000000</td>\n",
       "      <td>2.015043e+07</td>\n",
       "      <td>158.700000</td>\n",
       "      <td>50.700000</td>\n",
       "      <td>91.00000</td>\n",
       "      <td>170.000000</td>\n",
       "      <td>24.000000</td>\n",
       "      <td>20.000000</td>\n",
       "      <td>13.200000</td>\n",
       "      <td>105.000000</td>\n",
       "      <td>62.000000</td>\n",
       "    </tr>\n",
       "    <tr>\n",
       "      <th>75%</th>\n",
       "      <td>133.231158</td>\n",
       "      <td>2015.0</td>\n",
       "      <td>3.000000</td>\n",
       "      <td>3.000000</td>\n",
       "      <td>3.000000</td>\n",
       "      <td>2.015051e+07</td>\n",
       "      <td>167.200000</td>\n",
       "      <td>60.600000</td>\n",
       "      <td>99.00000</td>\n",
       "      <td>191.000000</td>\n",
       "      <td>30.000000</td>\n",
       "      <td>32.000000</td>\n",
       "      <td>13.675000</td>\n",
       "      <td>112.000000</td>\n",
       "      <td>69.000000</td>\n",
       "    </tr>\n",
       "    <tr>\n",
       "      <th>max</th>\n",
       "      <td>248.300844</td>\n",
       "      <td>2015.0</td>\n",
       "      <td>3.000000</td>\n",
       "      <td>6.000000</td>\n",
       "      <td>15.000000</td>\n",
       "      <td>2.015091e+07</td>\n",
       "      <td>194.200000</td>\n",
       "      <td>130.700000</td>\n",
       "      <td>132.00000</td>\n",
       "      <td>300.000000</td>\n",
       "      <td>186.000000</td>\n",
       "      <td>272.000000</td>\n",
       "      <td>15.700000</td>\n",
       "      <td>180.000000</td>\n",
       "      <td>98.000000</td>\n",
       "    </tr>\n",
       "  </tbody>\n",
       "</table>\n",
       "</div>"
      ],
      "text/plain": [
       "             최종가중치     학년도         학교급별           학년            반  \\\n",
       "count  9686.000000  9686.0  9686.000000  9686.000000  9686.000000   \n",
       "mean    104.894487  2015.0     1.995767     2.567933     2.659096   \n",
       "std      39.376988     0.0     0.856499     1.414243     2.601067   \n",
       "min      23.325794  2015.0     1.000000     1.000000     1.000000   \n",
       "25%      76.966829  2015.0     1.000000     1.000000     1.000000   \n",
       "50%      99.963287  2015.0     2.000000     2.000000     1.000000   \n",
       "75%     133.231158  2015.0     3.000000     3.000000     3.000000   \n",
       "max     248.300844  2015.0     3.000000     6.000000    15.000000   \n",
       "\n",
       "              건강검진일            키          몸무게   혈당식전mgdl  총콜레스테롤mgdl  \\\n",
       "count  9.686000e+03  9686.000000  9682.000000  338.00000  339.000000   \n",
       "mean   2.015047e+07   154.564444    50.207591   92.14497  173.516519   \n",
       "std    1.014788e+02    16.968590    17.075953   10.49571   32.567571   \n",
       "min    2.015023e+07   107.700000    15.900000   65.00000  102.000000   \n",
       "25%    2.015041e+07   142.000000    37.200000   85.00000  148.500000   \n",
       "50%    2.015043e+07   158.700000    50.700000   91.00000  170.000000   \n",
       "75%    2.015051e+07   167.200000    60.600000   99.00000  191.000000   \n",
       "max    2.015091e+07   194.200000   130.700000  132.00000  300.000000   \n",
       "\n",
       "            ASTUL       ALTUL      혈색소gdl          수축기          이완기  \n",
       "count  336.000000  337.000000  578.000000  3025.000000  3025.000000  \n",
       "mean    27.824405   30.311573   12.976990   104.830083    62.987438  \n",
       "std     19.327395   32.191960    1.092454    12.661348     7.948402  \n",
       "min     11.000000    8.000000    9.000000    65.000000    23.000000  \n",
       "25%     19.000000   14.000000   12.400000    98.000000    60.000000  \n",
       "50%     24.000000   20.000000   13.200000   105.000000    62.000000  \n",
       "75%     30.000000   32.000000   13.675000   112.000000    69.000000  \n",
       "max    186.000000  272.000000   15.700000   180.000000    98.000000  "
      ]
     },
     "execution_count": 6,
     "metadata": {},
     "output_type": "execute_result"
    }
   ],
   "source": [
    "df.describe()"
   ]
  },
  {
   "cell_type": "markdown",
   "metadata": {},
   "source": [
    "키와 몸무게만을 사용할 것이기 때문에 두 변수만을 따로 사용하겠습니다. "
   ]
  },
  {
   "cell_type": "code",
   "execution_count": 7,
   "metadata": {},
   "outputs": [],
   "source": [
    "data = df.loc[:,['키','몸무게']]"
   ]
  },
  {
   "cell_type": "code",
   "execution_count": 8,
   "metadata": {},
   "outputs": [
    {
     "data": {
      "text/html": [
       "<div>\n",
       "<style scoped>\n",
       "    .dataframe tbody tr th:only-of-type {\n",
       "        vertical-align: middle;\n",
       "    }\n",
       "\n",
       "    .dataframe tbody tr th {\n",
       "        vertical-align: top;\n",
       "    }\n",
       "\n",
       "    .dataframe thead th {\n",
       "        text-align: right;\n",
       "    }\n",
       "</style>\n",
       "<table border=\"1\" class=\"dataframe\">\n",
       "  <thead>\n",
       "    <tr style=\"text-align: right;\">\n",
       "      <th></th>\n",
       "      <th>키</th>\n",
       "      <th>몸무게</th>\n",
       "    </tr>\n",
       "  </thead>\n",
       "  <tbody>\n",
       "    <tr>\n",
       "      <th>0</th>\n",
       "      <td>125.8</td>\n",
       "      <td>27.3</td>\n",
       "    </tr>\n",
       "    <tr>\n",
       "      <th>1</th>\n",
       "      <td>124.3</td>\n",
       "      <td>25.4</td>\n",
       "    </tr>\n",
       "    <tr>\n",
       "      <th>2</th>\n",
       "      <td>119.2</td>\n",
       "      <td>23.5</td>\n",
       "    </tr>\n",
       "    <tr>\n",
       "      <th>3</th>\n",
       "      <td>115.0</td>\n",
       "      <td>20.0</td>\n",
       "    </tr>\n",
       "    <tr>\n",
       "      <th>4</th>\n",
       "      <td>120.0</td>\n",
       "      <td>33.5</td>\n",
       "    </tr>\n",
       "  </tbody>\n",
       "</table>\n",
       "</div>"
      ],
      "text/plain": [
       "       키   몸무게\n",
       "0  125.8  27.3\n",
       "1  124.3  25.4\n",
       "2  119.2  23.5\n",
       "3  115.0  20.0\n",
       "4  120.0  33.5"
      ]
     },
     "execution_count": 8,
     "metadata": {},
     "output_type": "execute_result"
    }
   ],
   "source": [
    "data.head()"
   ]
  },
  {
   "cell_type": "code",
   "execution_count": 9,
   "metadata": {},
   "outputs": [
    {
     "data": {
      "text/plain": [
       "키      0\n",
       "몸무게    4\n",
       "dtype: int64"
      ]
     },
     "execution_count": 9,
     "metadata": {},
     "output_type": "execute_result"
    }
   ],
   "source": [
    "# null 값 확인\n",
    "data.isnull().sum()"
   ]
  },
  {
   "cell_type": "code",
   "execution_count": 10,
   "metadata": {},
   "outputs": [
    {
     "name": "stdout",
     "output_type": "stream",
     "text": [
      "키      0\n",
      "몸무게    0\n",
      "dtype: int64\n"
     ]
    }
   ],
   "source": [
    "# inplace = True \n",
    "data.dropna(inplace=True)\n",
    "print(data.isnull().sum())"
   ]
  },
  {
   "cell_type": "code",
   "execution_count": 11,
   "metadata": {},
   "outputs": [],
   "source": [
    "height = data['키'] # 키\n",
    "weight = data['몸무게'] # 몸무게"
   ]
  },
  {
   "cell_type": "code",
   "execution_count": 12,
   "metadata": {},
   "outputs": [
    {
     "data": {
      "image/png": "[encoded data removed]",
      "text/plain": [
       "<Figure size 432x288 with 1 Axes>"
      ]
     },
     "metadata": {
      "needs_background": "light"
     },
     "output_type": "display_data"
    }
   ],
   "source": [
    "plt.plot(height, weight, 'o')\n",
    "plt.title('height-weight graph')\n",
    "plt.xlabel('height(cm)')\n",
    "plt.ylabel('weight(kg)')\n",
    "plt.show()"
   ]
  },
  {
   "cell_type": "markdown",
   "metadata": {},
   "source": [
    "## Linear regression using statsmodels.api"
   ]
  },
  {
   "cell_type": "code",
   "execution_count": 13,
   "metadata": {},
   "outputs": [],
   "source": [
    "import statsmodels.api as sm"
   ]
  },
  {
   "cell_type": "code",
   "execution_count": 14,
   "metadata": {},
   "outputs": [
    {
     "data": {
      "text/html": [
       "<div>\n",
       "<style scoped>\n",
       "    .dataframe tbody tr th:only-of-type {\n",
       "        vertical-align: middle;\n",
       "    }\n",
       "\n",
       "    .dataframe tbody tr th {\n",
       "        vertical-align: top;\n",
       "    }\n",
       "\n",
       "    .dataframe thead th {\n",
       "        text-align: right;\n",
       "    }\n",
       "</style>\n",
       "<table border=\"1\" class=\"dataframe\">\n",
       "  <thead>\n",
       "    <tr style=\"text-align: right;\">\n",
       "      <th></th>\n",
       "      <th>const</th>\n",
       "      <th>키</th>\n",
       "    </tr>\n",
       "  </thead>\n",
       "  <tbody>\n",
       "    <tr>\n",
       "      <th>0</th>\n",
       "      <td>1.0</td>\n",
       "      <td>125.8</td>\n",
       "    </tr>\n",
       "    <tr>\n",
       "      <th>1</th>\n",
       "      <td>1.0</td>\n",
       "      <td>124.3</td>\n",
       "    </tr>\n",
       "    <tr>\n",
       "      <th>2</th>\n",
       "      <td>1.0</td>\n",
       "      <td>119.2</td>\n",
       "    </tr>\n",
       "    <tr>\n",
       "      <th>3</th>\n",
       "      <td>1.0</td>\n",
       "      <td>115.0</td>\n",
       "    </tr>\n",
       "    <tr>\n",
       "      <th>4</th>\n",
       "      <td>1.0</td>\n",
       "      <td>120.0</td>\n",
       "    </tr>\n",
       "  </tbody>\n",
       "</table>\n",
       "</div>"
      ],
      "text/plain": [
       "   const      키\n",
       "0    1.0  125.8\n",
       "1    1.0  124.3\n",
       "2    1.0  119.2\n",
       "3    1.0  115.0\n",
       "4    1.0  120.0"
      ]
     },
     "execution_count": 14,
     "metadata": {},
     "output_type": "execute_result"
    }
   ],
   "source": [
    "# ols 사용\n",
    "# ordinary least squares\n",
    "\n",
    "# stats 모델에서 bias를 사용하려면 constant를 추가해서 모델링을 해줘야 함.\n",
    "height1 = sm.add_constant(height, has_constant='add')\n",
    "height1.head(5)"
   ]
  },
  {
   "cell_type": "code",
   "execution_count": 15,
   "metadata": {},
   "outputs": [
    {
     "data": {
      "text/html": [
       "<table class=\"simpletable\">\n",
       "<caption>OLS Regression Results</caption>\n",
       "<tr>\n",
       "  <th>Dep. Variable:</th>           <td>몸무게</td>       <th>  R-squared:         </th> <td>   0.721</td> \n",
       "</tr>\n",
       "<tr>\n",
       "  <th>Model:</th>                   <td>OLS</td>       <th>  Adj. R-squared:    </th> <td>   0.721</td> \n",
       "</tr>\n",
       "<tr>\n",
       "  <th>Method:</th>             <td>Least Squares</td>  <th>  F-statistic:       </th> <td>2.499e+04</td>\n",
       "</tr>\n",
       "<tr>\n",
       "  <th>Date:</th>             <td>Mon, 06 Dec 2021</td> <th>  Prob (F-statistic):</th>  <td>  0.00</td>  \n",
       "</tr>\n",
       "<tr>\n",
       "  <th>Time:</th>                 <td>10:28:29</td>     <th>  Log-Likelihood:    </th> <td> -35036.</td> \n",
       "</tr>\n",
       "<tr>\n",
       "  <th>No. Observations:</th>      <td>  9682</td>      <th>  AIC:               </th> <td>7.008e+04</td>\n",
       "</tr>\n",
       "<tr>\n",
       "  <th>Df Residuals:</th>          <td>  9680</td>      <th>  BIC:               </th> <td>7.009e+04</td>\n",
       "</tr>\n",
       "<tr>\n",
       "  <th>Df Model:</th>              <td>     1</td>      <th>                     </th>     <td> </td>    \n",
       "</tr>\n",
       "<tr>\n",
       "  <th>Covariance Type:</th>      <td>nonrobust</td>    <th>                     </th>     <td> </td>    \n",
       "</tr>\n",
       "</table>\n",
       "<table class=\"simpletable\">\n",
       "<tr>\n",
       "    <td></td>       <th>coef</th>     <th>std err</th>      <th>t</th>      <th>P>|t|</th>  <th>[0.025</th>    <th>0.975]</th>  \n",
       "</tr>\n",
       "<tr>\n",
       "  <th>const</th> <td>  -81.8267</td> <td>    0.840</td> <td>  -97.388</td> <td> 0.000</td> <td>  -83.474</td> <td>  -80.180</td>\n",
       "</tr>\n",
       "<tr>\n",
       "  <th>키</th>     <td>    0.8542</td> <td>    0.005</td> <td>  158.088</td> <td> 0.000</td> <td>    0.844</td> <td>    0.865</td>\n",
       "</tr>\n",
       "</table>\n",
       "<table class=\"simpletable\">\n",
       "<tr>\n",
       "  <th>Omnibus:</th>       <td>2123.133</td> <th>  Durbin-Watson:     </th> <td>   1.850</td>\n",
       "</tr>\n",
       "<tr>\n",
       "  <th>Prob(Omnibus):</th>  <td> 0.000</td>  <th>  Jarque-Bera (JB):  </th> <td>5777.039</td>\n",
       "</tr>\n",
       "<tr>\n",
       "  <th>Skew:</th>           <td> 1.169</td>  <th>  Prob(JB):          </th> <td>    0.00</td>\n",
       "</tr>\n",
       "<tr>\n",
       "  <th>Kurtosis:</th>       <td> 5.975</td>  <th>  Cond. No.          </th> <td>1.42e+03</td>\n",
       "</tr>\n",
       "</table><br/><br/>Notes:<br/>[1] Standard Errors assume that the covariance matrix of the errors is correctly specified.<br/>[2] The condition number is large, 1.42e+03. This might indicate that there are<br/>strong multicollinearity or other numerical problems."
      ],
      "text/plain": [
       "<class 'statsmodels.iolib.summary.Summary'>\n",
       "\"\"\"\n",
       "                            OLS Regression Results                            \n",
       "==============================================================================\n",
       "Dep. Variable:                    몸무게   R-squared:                       0.721\n",
       "Model:                            OLS   Adj. R-squared:                  0.721\n",
       "Method:                 Least Squares   F-statistic:                 2.499e+04\n",
       "Date:                Mon, 06 Dec 2021   Prob (F-statistic):               0.00\n",
       "Time:                        10:28:29   Log-Likelihood:                -35036.\n",
       "No. Observations:                9682   AIC:                         7.008e+04\n",
       "Df Residuals:                    9680   BIC:                         7.009e+04\n",
       "Df Model:                           1                                         \n",
       "Covariance Type:            nonrobust                                         \n",
       "==============================================================================\n",
       "                 coef    std err          t      P>|t|      [0.025      0.975]\n",
       "------------------------------------------------------------------------------\n",
       "const        -81.8267      0.840    -97.388      0.000     -83.474     -80.180\n",
       "키              0.8542      0.005    158.088      0.000       0.844       0.865\n",
       "==============================================================================\n",
       "Omnibus:                     2123.133   Durbin-Watson:                   1.850\n",
       "Prob(Omnibus):                  0.000   Jarque-Bera (JB):             5777.039\n",
       "Skew:                           1.169   Prob(JB):                         0.00\n",
       "Kurtosis:                       5.975   Cond. No.                     1.42e+03\n",
       "==============================================================================\n",
       "\n",
       "Notes:\n",
       "[1] Standard Errors assume that the covariance matrix of the errors is correctly specified.\n",
       "[2] The condition number is large, 1.42e+03. This might indicate that there are\n",
       "strong multicollinearity or other numerical problems.\n",
       "\"\"\""
      ]
     },
     "execution_count": 15,
     "metadata": {},
     "output_type": "execute_result"
    }
   ],
   "source": [
    "lm = sm.OLS(weight, height1)\n",
    "results = lm.fit()\n",
    "results.summary()"
   ]
  },
  {
   "cell_type": "markdown",
   "metadata": {},
   "source": [
    "### 결과 해석   \n",
    "1. $weight = -81.8267 + 0.8542 \\times height$   \n",
    "2. $R^2 = 0.72$   \n",
    "3. $p-values = 0$"
   ]
  },
  {
   "cell_type": "markdown",
   "metadata": {},
   "source": [
    "### Linear regression using scikit-learn"
   ]
  },
  {
   "cell_type": "code",
   "execution_count": 25,
   "metadata": {},
   "outputs": [],
   "source": [
    "from sklearn.linear_model import LinearRegression"
   ]
  },
  {
   "cell_type": "code",
   "execution_count": 16,
   "metadata": {},
   "outputs": [],
   "source": [
    "rl = LinearRegression()"
   ]
  },
  {
   "cell_type": "code",
   "execution_count": 17,
   "metadata": {},
   "outputs": [
    {
     "name": "stdout",
     "output_type": "stream",
     "text": [
      "모델 학습에 에러 발생!\n",
      "(9682,)\n"
     ]
    }
   ],
   "source": [
    "try:\n",
    "    rl.fit(height, weight) \n",
    "except:\n",
    "    print('모델 학습에 에러 발생!')\n",
    "    print(height.values.shape)"
   ]
  },
  {
   "cell_type": "code",
   "execution_count": 18,
   "metadata": {},
   "outputs": [
    {
     "data": {
      "text/plain": [
       "LinearRegression()"
      ]
     },
     "execution_count": 18,
     "metadata": {},
     "output_type": "execute_result"
    }
   ],
   "source": [
    "# X데이터가 2차원 array형태여야 하기 때문에 height의 차원을 추가해줌.\n",
    "# np.newaxis 사용\n",
    "# 또는 .reshape(-1,1) 사용\n",
    "\n",
    "rl.fit(height.values[:,np.newaxis], weight) \n",
    "# 또는 rl.fit(height.to_numpy()[:,np.newaxis],weight)\n",
    "# 또는 rl.fit(height.values.reshape(-1,1), weight) 사용 가능."
   ]
  },
  {
   "cell_type": "code",
   "execution_count": 19,
   "metadata": {},
   "outputs": [
    {
     "name": "stdout",
     "output_type": "stream",
     "text": [
      "기울기:  0.8542323795602206\n",
      "절편: -81.8266925268558\n"
     ]
    }
   ],
   "source": [
    "print('기울기: ',rl.coef_[0])\n",
    "print('절편:', rl.intercept_)"
   ]
  },
  {
   "cell_type": "code",
   "execution_count": 20,
   "metadata": {},
   "outputs": [
    {
     "data": {
      "text/plain": [
       "array([71.93513579])"
      ]
     },
     "execution_count": 20,
     "metadata": {},
     "output_type": "execute_result"
    }
   ],
   "source": [
    "rl.predict([[180]])\n",
    "# 키가 180cm인 사람 몸무게 예측"
   ]
  },
  {
   "cell_type": "code",
   "execution_count": 21,
   "metadata": {},
   "outputs": [
    {
     "data": {
      "image/png": "[encoded data removed]",
      "text/plain": [
       "<Figure size 432x288 with 1 Axes>"
      ]
     },
     "metadata": {
      "needs_background": "light"
     },
     "output_type": "display_data"
    }
   ],
   "source": [
    "plt.plot(height, weight, 'o')\n",
    "plt.plot(height,rl.predict(height.values.reshape(-1,1)))\n",
    "plt.title('height-weight graph')\n",
    "plt.xlabel('height(cm)')\n",
    "plt.ylabel('weight(kg)')\n",
    "plt.show()"
   ]
  },
  {
   "cell_type": "markdown",
   "metadata": {},
   "source": [
    "### 결정 계수 $R^2$   \n",
    "$R^2 = 1-{SS_{RES} \\over SS_{TOT}}=1-{\\Sigma_{i}(y_{i}-\\hat{y_{i}})^{2} \\over \\Sigma_{i}(y_{i}-\\bar{y_{i}})^{2} }$"
   ]
  },
  {
   "cell_type": "code",
   "execution_count": 22,
   "metadata": {},
   "outputs": [
    {
     "name": "stdout",
     "output_type": "stream",
     "text": [
      "R^2: 0.7208\n"
     ]
    }
   ],
   "source": [
    "predict = rl.predict(height.values.reshape(-1,1))\n",
    "r2 = 1 - ((weight - predict)**2).sum() / ((weight - weight.mean())**2).sum()\n",
    "print(f'R^2: {r2:.4f}')"
   ]
  },
  {
   "cell_type": "markdown",
   "metadata": {},
   "source": [
    "### MSE (Mean Squared Error)"
   ]
  },
  {
   "cell_type": "markdown",
   "metadata": {},
   "source": [
    "$MSE = {1 \\over n} \\Sigma_{i}^{n} (y_{i}-\\hat{y_{i}})^{2}$   \n",
    "$n$ : the number of observations in the test set   \n",
    "$y_{i}$ : actual values   \n",
    "$\\hat{y_{i}}$ : predicted values     \n"
   ]
  },
  {
   "cell_type": "code",
   "execution_count": 26,
   "metadata": {},
   "outputs": [],
   "source": [
    "from sklearn.metrics import mean_squared_error"
   ]
  },
  {
   "cell_type": "code",
   "execution_count": 23,
   "metadata": {},
   "outputs": [
    {
     "name": "stdout",
     "output_type": "stream",
     "text": [
      "MSE: 81.3998\n"
     ]
    }
   ],
   "source": [
    "mse = np.mean((weight - predict)**2)\n",
    "print(f'MSE: {mse:.4f}')"
   ]
  },
  {
   "cell_type": "code",
   "execution_count": 27,
   "metadata": {},
   "outputs": [
    {
     "name": "stdout",
     "output_type": "stream",
     "text": [
      "MSE: 81.3998\n"
     ]
    }
   ],
   "source": [
    "# library 사용\n",
    "mse = mean_squared_error(weight, predict)\n",
    "print(f'MSE: {mse:.4f}')"
   ]
  },
  {
   "cell_type": "markdown",
   "metadata": {},
   "source": [
    "## 실습: 보스턴 집값 예측 모델"
   ]
  },
  {
   "cell_type": "markdown",
   "metadata": {},
   "source": [
    "#### 주택당 방 수(RM) 데이터를 가지고 집값 예측하는 선형 회귀모형 만들어보기\n",
    "- 기울기, 절편 구하기\n",
    "- $R^2$, $MSE$ 구하기"
   ]
  },
  {
   "cell_type": "markdown",
   "metadata": {},
   "source": [
    "### 데이터 설명\n",
    "타겟 데이터   \n",
    "1978 보스턴 주택 가격   \n",
    "506개 타운의 주택 가격 중앙값 (단위 1,000 달러)   \n",
    "\n",
    "|특징 데이터||\n",
    "|------|---|\n",
    "|CRIM|범죄율|\n",
    "|INDUS|비소매상업지역 면적 비율|\n",
    "|NOX|일산화질소 농도|\n",
    "|RM|주택당 방 수|\n",
    "|LSTAT|인구 중 하위 계층 비율|\n",
    "|B|인구 중 흑인 비율|\n",
    "|PTRAT|학생/교사 비율|\n",
    "|ZN|25,000 평방피트를 초과 거주지역 비율|\n",
    "|CHAS|찰스강의 경계에 위치한 경우는 1, 아니면 0|\n",
    "|AGE|1940년 이전에 건축된 주택의 비율|\n",
    "|RAD|방사형 고속도로까지의 거리|\n",
    "|DIS|직업센터의 거리|\n",
    "|TAX|재산세율|\n",
    "  "
   ]
  },
  {
   "cell_type": "code",
   "execution_count": 24,
   "metadata": {},
   "outputs": [
    {
     "data": {
      "text/html": [
       "<div>\n",
       "<style scoped>\n",
       "    .dataframe tbody tr th:only-of-type {\n",
       "        vertical-align: middle;\n",
       "    }\n",
       "\n",
       "    .dataframe tbody tr th {\n",
       "        vertical-align: top;\n",
       "    }\n",
       "\n",
       "    .dataframe thead th {\n",
       "        text-align: right;\n",
       "    }\n",
       "</style>\n",
       "<table border=\"1\" class=\"dataframe\">\n",
       "  <thead>\n",
       "    <tr style=\"text-align: right;\">\n",
       "      <th></th>\n",
       "      <th>AGE</th>\n",
       "      <th>B</th>\n",
       "      <th>RM</th>\n",
       "      <th>CRIM</th>\n",
       "      <th>DIS</th>\n",
       "      <th>INDUS</th>\n",
       "      <th>LSTAT</th>\n",
       "      <th>NOX</th>\n",
       "      <th>PTRATIO</th>\n",
       "      <th>RAD</th>\n",
       "      <th>ZN</th>\n",
       "      <th>TAX</th>\n",
       "      <th>CHAS</th>\n",
       "      <th>Target</th>\n",
       "    </tr>\n",
       "  </thead>\n",
       "  <tbody>\n",
       "    <tr>\n",
       "      <th>0</th>\n",
       "      <td>65.2</td>\n",
       "      <td>396.90</td>\n",
       "      <td>6.575</td>\n",
       "      <td>0.00632</td>\n",
       "      <td>4.0900</td>\n",
       "      <td>2.31</td>\n",
       "      <td>4.98</td>\n",
       "      <td>0.538</td>\n",
       "      <td>15.3</td>\n",
       "      <td>1</td>\n",
       "      <td>18.0</td>\n",
       "      <td>296</td>\n",
       "      <td>0</td>\n",
       "      <td>24.0</td>\n",
       "    </tr>\n",
       "    <tr>\n",
       "      <th>1</th>\n",
       "      <td>78.9</td>\n",
       "      <td>396.90</td>\n",
       "      <td>6.421</td>\n",
       "      <td>0.02731</td>\n",
       "      <td>4.9671</td>\n",
       "      <td>7.07</td>\n",
       "      <td>9.14</td>\n",
       "      <td>0.469</td>\n",
       "      <td>17.8</td>\n",
       "      <td>2</td>\n",
       "      <td>0.0</td>\n",
       "      <td>242</td>\n",
       "      <td>0</td>\n",
       "      <td>21.6</td>\n",
       "    </tr>\n",
       "    <tr>\n",
       "      <th>2</th>\n",
       "      <td>61.1</td>\n",
       "      <td>392.83</td>\n",
       "      <td>7.185</td>\n",
       "      <td>0.02729</td>\n",
       "      <td>4.9671</td>\n",
       "      <td>7.07</td>\n",
       "      <td>4.03</td>\n",
       "      <td>0.469</td>\n",
       "      <td>17.8</td>\n",
       "      <td>2</td>\n",
       "      <td>0.0</td>\n",
       "      <td>242</td>\n",
       "      <td>0</td>\n",
       "      <td>34.7</td>\n",
       "    </tr>\n",
       "    <tr>\n",
       "      <th>3</th>\n",
       "      <td>45.8</td>\n",
       "      <td>394.63</td>\n",
       "      <td>6.998</td>\n",
       "      <td>0.03237</td>\n",
       "      <td>6.0622</td>\n",
       "      <td>2.18</td>\n",
       "      <td>2.94</td>\n",
       "      <td>0.458</td>\n",
       "      <td>18.7</td>\n",
       "      <td>3</td>\n",
       "      <td>0.0</td>\n",
       "      <td>222</td>\n",
       "      <td>0</td>\n",
       "      <td>33.4</td>\n",
       "    </tr>\n",
       "    <tr>\n",
       "      <th>4</th>\n",
       "      <td>54.2</td>\n",
       "      <td>396.90</td>\n",
       "      <td>7.147</td>\n",
       "      <td>0.06905</td>\n",
       "      <td>6.0622</td>\n",
       "      <td>2.18</td>\n",
       "      <td>5.33</td>\n",
       "      <td>0.458</td>\n",
       "      <td>18.7</td>\n",
       "      <td>3</td>\n",
       "      <td>0.0</td>\n",
       "      <td>222</td>\n",
       "      <td>0</td>\n",
       "      <td>36.2</td>\n",
       "    </tr>\n",
       "  </tbody>\n",
       "</table>\n",
       "</div>"
      ],
      "text/plain": [
       "    AGE       B     RM     CRIM     DIS  INDUS  LSTAT    NOX  PTRATIO  RAD  \\\n",
       "0  65.2  396.90  6.575  0.00632  4.0900   2.31   4.98  0.538     15.3    1   \n",
       "1  78.9  396.90  6.421  0.02731  4.9671   7.07   9.14  0.469     17.8    2   \n",
       "2  61.1  392.83  7.185  0.02729  4.9671   7.07   4.03  0.469     17.8    2   \n",
       "3  45.8  394.63  6.998  0.03237  6.0622   2.18   2.94  0.458     18.7    3   \n",
       "4  54.2  396.90  7.147  0.06905  6.0622   2.18   5.33  0.458     18.7    3   \n",
       "\n",
       "     ZN  TAX  CHAS  Target  \n",
       "0  18.0  296     0    24.0  \n",
       "1   0.0  242     0    21.6  \n",
       "2   0.0  242     0    34.7  \n",
       "3   0.0  222     0    33.4  \n",
       "4   0.0  222     0    36.2  "
      ]
     },
     "execution_count": 24,
     "metadata": {},
     "output_type": "execute_result"
    }
   ],
   "source": [
    "boston = pd.read_csv(\"./Boston_house.csv\")\n",
    "boston.head()"
   ]
  },
  {
   "cell_type": "code",
   "execution_count": null,
   "metadata": {},
   "outputs": [],
   "source": [
    "# Target 및 independent variable 셋팅\n",
    "# Response variable (Dependent variable, 종속 변수) y 는 Target 사용 \n",
    "# Explanatory variable (Independent variable, 독립 변수) X 는 RM (주택 당 방 수) 사용\n",
    "## Hint: y = boston[['Target']], X= boston[['RM']]"
   ]
  },
  {
   "cell_type": "code",
   "execution_count": null,
   "metadata": {},
   "outputs": [],
   "source": [
    "# 단순 선형 회귀 모델 생성 및 학습"
   ]
  },
  {
   "cell_type": "code",
   "execution_count": null,
   "metadata": {},
   "outputs": [],
   "source": [
    "# 기울기 및 절편 확인"
   ]
  },
  {
   "cell_type": "code",
   "execution_count": null,
   "metadata": {},
   "outputs": [],
   "source": [
    "# R^2 및 MSE 확인"
   ]
  },
  {
   "cell_type": "markdown",
   "metadata": {},
   "source": [
    "### 실습 가이드 라인"
   ]
  },
  {
   "cell_type": "code",
   "execution_count": 28,
   "metadata": {},
   "outputs": [
    {
     "name": "stdout",
     "output_type": "stream",
     "text": [
      "기울기: 9.1021\n",
      "절편: -34.6706\n",
      "R^2: 0.4835\n",
      "MSE: 43.6006\n"
     ]
    }
   ],
   "source": [
    "# 실습 가이드 라인 1\n",
    "# sklearn 사용하는 경우\n",
    "\n",
    "# Target 및 independent variable 셋팅\n",
    "# Response variable (Dependent variable, 종속 변수) y 는 PRICE 사용\n",
    "# Explanatory variable (Independent variable, 독립 변수) X 는 RM (주택 당 방 수) 사용\n",
    "price = boston[['Target']]\n",
    "RM = boston[['RM']]\n",
    "\n",
    "# 단순 선형 회귀 모델 생성 및 학습\n",
    "rl = LinearRegression()\n",
    "rl.fit(RM, price)\n",
    "\n",
    "# 기울기 및 절편 확인\n",
    "print(f'기울기: {rl.coef_[0][0]:.4f}')\n",
    "print(f'절편: {rl.intercept_[0]:.4f}' )\n",
    "\n",
    "# R^2 및 MSE 확인\n",
    "price_hat = rl.predict(RM)\n",
    "print(f'R^2: {rl.score(RM, price):.4f}')\n",
    "print(f'MSE: {mean_squared_error(price,price_hat):.4f}')"
   ]
  },
  {
   "cell_type": "code",
   "execution_count": 29,
   "metadata": {},
   "outputs": [
    {
     "name": "stdout",
     "output_type": "stream",
     "text": [
      "   const     RM\n",
      "0    1.0  6.575\n",
      "1    1.0  6.421\n",
      "2    1.0  7.185\n",
      "3    1.0  6.998\n",
      "4    1.0  7.147\n",
      "                            OLS Regression Results                            \n",
      "==============================================================================\n",
      "Dep. Variable:                 Target   R-squared:                       0.484\n",
      "Model:                            OLS   Adj. R-squared:                  0.483\n",
      "Method:                 Least Squares   F-statistic:                     471.8\n",
      "Date:                Mon, 06 Dec 2021   Prob (F-statistic):           2.49e-74\n",
      "Time:                        10:41:22   Log-Likelihood:                -1673.1\n",
      "No. Observations:                 506   AIC:                             3350.\n",
      "Df Residuals:                     504   BIC:                             3359.\n",
      "Df Model:                           1                                         \n",
      "Covariance Type:            nonrobust                                         \n",
      "==============================================================================\n",
      "                 coef    std err          t      P>|t|      [0.025      0.975]\n",
      "------------------------------------------------------------------------------\n",
      "const        -34.6706      2.650    -13.084      0.000     -39.877     -29.465\n",
      "RM             9.1021      0.419     21.722      0.000       8.279       9.925\n",
      "==============================================================================\n",
      "Omnibus:                      102.585   Durbin-Watson:                   0.684\n",
      "Prob(Omnibus):                  0.000   Jarque-Bera (JB):              612.449\n",
      "Skew:                           0.726   Prob(JB):                    1.02e-133\n",
      "Kurtosis:                       8.190   Cond. No.                         58.4\n",
      "==============================================================================\n",
      "\n",
      "Notes:\n",
      "[1] Standard Errors assume that the covariance matrix of the errors is correctly specified.\n"
     ]
    }
   ],
   "source": [
    "# 실습 가이드 라인 2\n",
    "# statsmodel.api 를 사용하는 경우\n",
    "\n",
    "# Target 및 independent variable 셋팅\n",
    "# Response variable (Dependent variable, 종속 변수) y 는 PRICE 사용\n",
    "# Explanatory variable (Independent variable, 독립 변수) X 는 RM (주택 당 방 수) 사용\n",
    "price = boston[['Target']]\n",
    "RM = boston[['RM']]\n",
    "RM1 = sm.add_constant(RM, has_constant= 'add')\n",
    "print(RM1.head(5))\n",
    "\n",
    "# 단순 선형 회귀 모델 생성 및 학습\n",
    "lm = sm.OLS(price, RM1)\n",
    "results = lm.fit()\n",
    "print(results.summary())"
   ]
  },
  {
   "cell_type": "markdown",
   "metadata": {},
   "source": [
    "## 생각해볼 만한 것"
   ]
  },
  {
   "cell_type": "markdown",
   "metadata": {},
   "source": [
    "'학습 데이터'가 아닌 '새로운 데이터'에 대해서도 모델이 좋은 설명력을 가질까?    \n",
    "Generalization performance"
   ]
  },
  {
   "cell_type": "markdown",
   "metadata": {},
   "source": [
    "## Train_test_set_split & evaluation"
   ]
  },
  {
   "cell_type": "markdown",
   "metadata": {},
   "source": [
    "![split](Image/ee.png)"
   ]
  },
  {
   "cell_type": "code",
   "execution_count": 30,
   "metadata": {},
   "outputs": [],
   "source": [
    "from sklearn.model_selection import train_test_split"
   ]
  },
  {
   "cell_type": "code",
   "execution_count": 33,
   "metadata": {},
   "outputs": [],
   "source": [
    "# Boston 데이터를 그대로 사용.\n",
    "\n",
    "# Target 및 independent variable 셋팅\n",
    "# Response variable (Dependent variable, 종속 변수) y 는 PRICE 사용\n",
    "# Explanatory variable (Independent variable, 독립 변수) X 는 RM (주택 당 방 수) 사용\n",
    "y = boston[['Target']]\n",
    "X = boston[['RM']]\n",
    "\n",
    "# 이 때 모델의 generalization performance 를 확인하기 위해 train-test split을 해줌.\n",
    "X_train, X_test, y_train, y_test = train_test_split(X, y, test_size = 0.3, random_state=0)"
   ]
  },
  {
   "cell_type": "code",
   "execution_count": 34,
   "metadata": {},
   "outputs": [
    {
     "data": {
      "text/plain": [
       "0.30039525691699603"
      ]
     },
     "execution_count": 34,
     "metadata": {},
     "output_type": "execute_result"
    }
   ],
   "source": [
    "# test data 셋 비율 확인\n",
    "X_test.shape[0]/X.shape[0]"
   ]
  },
  {
   "cell_type": "code",
   "execution_count": 40,
   "metadata": {},
   "outputs": [
    {
     "name": "stdout",
     "output_type": "stream",
     "text": [
      "기울기: 9.3113\n",
      "절편: -35.9943\n",
      "R^2: 0.5026\n",
      "MSE: 42.1577\n"
     ]
    }
   ],
   "source": [
    "# 단순 선형 회귀 모델 생성 및 학습\n",
    "rl = LinearRegression()\n",
    "rl.fit(X_train, y_train)\n",
    "\n",
    "# 기울기 및 절편 확인\n",
    "print(f'기울기: {rl.coef_[0][0]:.4f}')\n",
    "print(f'절편: {rl.intercept_[0]:.4f}' )\n",
    "\n",
    "# R^2 및 MSE 확인\n",
    "price_hat = rl.predict(X_train)\n",
    "print(f'R^2: for the training data {rl.score(X_train, y_train):.4f}')\n",
    "print(f'MSE for the training data: {mean_squared_error(y_train,price_hat):.4f}')"
   ]
  },
  {
   "cell_type": "code",
   "execution_count": 41,
   "metadata": {},
   "outputs": [
    {
     "name": "stdout",
     "output_type": "stream",
     "text": [
      "R^2: for the test data 0.4351\n",
      "MSE for the test data: 47.0330\n"
     ]
    }
   ],
   "source": [
    "# R^2 및 MSE 확인\n",
    "price_hat = rl.predict(X_test)\n",
    "print(f'R^2: for the test data {rl.score(X_test, y_test):.4f}')\n",
    "print(f'MSE for the test data: {mean_squared_error(y_test,price_hat):.4f}')"
   ]
  },
  {
   "cell_type": "markdown",
   "metadata": {},
   "source": [
    "## 생각해볼 만한 것"
   ]
  },
  {
   "cell_type": "markdown",
   "metadata": {},
   "source": [
    "단 한 번의 'split' 으로 generalization performance 를 평가하는 것이 합리적인까?"
   ]
  },
  {
   "cell_type": "markdown",
   "metadata": {},
   "source": [
    "## Cross validation\n",
    "* K-fold validation"
   ]
  },
  {
   "cell_type": "code",
   "execution_count": 43,
   "metadata": {},
   "outputs": [],
   "source": [
    "from sklearn.model_selection import KFold"
   ]
  },
  {
   "cell_type": "markdown",
   "metadata": {},
   "source": [
    "![CV](Image/dd.png)"
   ]
  },
  {
   "cell_type": "code",
   "execution_count": 44,
   "metadata": {
    "scrolled": true
   },
   "outputs": [
    {
     "name": "stdout",
     "output_type": "stream",
     "text": [
      "fold: 0\n",
      "idx train: [2 3 4 5 6 7 8 9] idx test: [0 1]\n",
      "fold: 1\n",
      "idx train: [0 1 4 5 6 7 8 9] idx test: [2 3]\n",
      "fold: 2\n",
      "idx train: [0 1 2 3 6 7 8 9] idx test: [4 5]\n",
      "fold: 3\n",
      "idx train: [0 1 2 3 4 5 8 9] idx test: [6 7]\n",
      "fold: 4\n",
      "idx train: [0 1 2 3 4 5 6 7] idx test: [8 9]\n"
     ]
    }
   ],
   "source": [
    "# cross validation 예제\n",
    "idx = np.arange(10)\n",
    "kf2 = KFold(n_splits=5, shuffle=False)\n",
    "for fold,(idx_train, idx_test) in enumerate(kf2.split(idx)):\n",
    "    print('fold:',fold)\n",
    "    print(\"idx train:\",idx_train, \"idx test:\",idx_test)"
   ]
  },
  {
   "cell_type": "markdown",
   "metadata": {},
   "source": [
    "### 직접 cross validation 활용하기 \n",
    "* 함수 짜기"
   ]
  },
  {
   "cell_type": "code",
   "execution_count": 54,
   "metadata": {},
   "outputs": [],
   "source": [
    "# 직접 cross validation 활용하기\n",
    "def my_cv(model, X, y, n_splits:int, shuffle = True):\n",
    "    \n",
    "    # performance 저장용\n",
    "    perf = {'MSE_training':[], 'MSE_test':[], 'R2_train':[],'R2_test':[]}\n",
    "    idx = X.index\n",
    "    folds = KFold(n_splits=n_splits, shuffle= shuffle)\n",
    "    for idx_train, idx_test in folds.split(idx):\n",
    "        X_train = X.loc[idx_train,:]\n",
    "        X_test = X.loc[idx_test, :]\n",
    "        y_train = y.loc[idx_train]\n",
    "        y_test = y.loc[idx_test]\n",
    "        \n",
    "        model.fit(X_train, y_train)\n",
    "        # performance 계산\n",
    "        mse_train = mean_squared_error(y_train, model.predict(X_train))\n",
    "        mse_test = mean_squared_error(y_test, model.predict(X_test))\n",
    "        r2_train = model.score(X_train, y_train)\n",
    "        r2_test = model.score(X_test, y_test)\n",
    "        \n",
    "        # performance list에 저장\n",
    "        perf['MSE_training'].append(mse_train)\n",
    "        perf['MSE_test'].append(mse_test)\n",
    "        perf['R2_train'].append(r2_train)\n",
    "        perf['R2_test'].append(r2_test)\n",
    "        \n",
    "    return perf\n",
    "    "
   ]
  },
  {
   "cell_type": "code",
   "execution_count": 55,
   "metadata": {},
   "outputs": [],
   "source": [
    "# Boston data 에 적용해보기\n",
    "\n",
    "# Target 및 independent variable 셋팅\n",
    "# Response variable (Dependent variable, 종속 변수) y 는 PRICE 사용\n",
    "# Explanatory variable (Independent variable, 독립 변수) X 는 RM (주택 당 방 수) 사용\n",
    "y = boston[['Target']]\n",
    "X = boston[['RM']]\n",
    "\n",
    "model = LinearRegression()\n",
    "\n",
    "perf = my_cv(model, X, y, n_splits= 5)"
   ]
  },
  {
   "cell_type": "code",
   "execution_count": 56,
   "metadata": {},
   "outputs": [
    {
     "data": {
      "text/plain": [
       "{'MSE_training': [37.27423719476749,\n",
       "  46.29227408672339,\n",
       "  47.566299362327044,\n",
       "  42.56239816875466,\n",
       "  43.61249048594266],\n",
       " 'MSE_test': [70.20983731783214,\n",
       "  33.461266092568714,\n",
       "  27.895752917819944,\n",
       "  47.9383109661788,\n",
       "  44.460210823316025],\n",
       " 'R2_train': [0.5459780795202143,\n",
       "  0.4964569087318986,\n",
       "  0.45292557244145715,\n",
       "  0.48740847103810914,\n",
       "  0.43836576530116034],\n",
       " 'R2_test': [0.2434667155635959,\n",
       "  0.323196764236405,\n",
       "  0.6217811536288379,\n",
       "  0.465082887468367,\n",
       "  0.5940640963883795]}"
      ]
     },
     "execution_count": 56,
     "metadata": {},
     "output_type": "execute_result"
    }
   ],
   "source": [
    "perf"
   ]
  },
  {
   "cell_type": "code",
   "execution_count": 57,
   "metadata": {},
   "outputs": [
    {
     "data": {
      "text/html": [
       "<div>\n",
       "<style scoped>\n",
       "    .dataframe tbody tr th:only-of-type {\n",
       "        vertical-align: middle;\n",
       "    }\n",
       "\n",
       "    .dataframe tbody tr th {\n",
       "        vertical-align: top;\n",
       "    }\n",
       "\n",
       "    .dataframe thead th {\n",
       "        text-align: right;\n",
       "    }\n",
       "</style>\n",
       "<table border=\"1\" class=\"dataframe\">\n",
       "  <thead>\n",
       "    <tr style=\"text-align: right;\">\n",
       "      <th></th>\n",
       "      <th>MSE_training</th>\n",
       "      <th>MSE_test</th>\n",
       "      <th>R2_train</th>\n",
       "      <th>R2_test</th>\n",
       "    </tr>\n",
       "  </thead>\n",
       "  <tbody>\n",
       "    <tr>\n",
       "      <th>0</th>\n",
       "      <td>37.274237</td>\n",
       "      <td>70.209837</td>\n",
       "      <td>0.545978</td>\n",
       "      <td>0.243467</td>\n",
       "    </tr>\n",
       "    <tr>\n",
       "      <th>1</th>\n",
       "      <td>46.292274</td>\n",
       "      <td>33.461266</td>\n",
       "      <td>0.496457</td>\n",
       "      <td>0.323197</td>\n",
       "    </tr>\n",
       "    <tr>\n",
       "      <th>2</th>\n",
       "      <td>47.566299</td>\n",
       "      <td>27.895753</td>\n",
       "      <td>0.452926</td>\n",
       "      <td>0.621781</td>\n",
       "    </tr>\n",
       "    <tr>\n",
       "      <th>3</th>\n",
       "      <td>42.562398</td>\n",
       "      <td>47.938311</td>\n",
       "      <td>0.487408</td>\n",
       "      <td>0.465083</td>\n",
       "    </tr>\n",
       "    <tr>\n",
       "      <th>4</th>\n",
       "      <td>43.612490</td>\n",
       "      <td>44.460211</td>\n",
       "      <td>0.438366</td>\n",
       "      <td>0.594064</td>\n",
       "    </tr>\n",
       "  </tbody>\n",
       "</table>\n",
       "</div>"
      ],
      "text/plain": [
       "   MSE_training   MSE_test  R2_train   R2_test\n",
       "0     37.274237  70.209837  0.545978  0.243467\n",
       "1     46.292274  33.461266  0.496457  0.323197\n",
       "2     47.566299  27.895753  0.452926  0.621781\n",
       "3     42.562398  47.938311  0.487408  0.465083\n",
       "4     43.612490  44.460211  0.438366  0.594064"
      ]
     },
     "execution_count": 57,
     "metadata": {},
     "output_type": "execute_result"
    }
   ],
   "source": [
    "# 좀 더 편하게 보기 위해 pandas 사용\n",
    "pd_perf = pd.DataFrame(perf)\n",
    "pd_perf"
   ]
  },
  {
   "cell_type": "code",
   "execution_count": 59,
   "metadata": {},
   "outputs": [
    {
     "data": {
      "text/plain": [
       "MSE_training    43.461540\n",
       "MSE_test        44.793076\n",
       "R2_train         0.484227\n",
       "R2_test          0.449518\n",
       "dtype: float64"
      ]
     },
     "execution_count": 59,
     "metadata": {},
     "output_type": "execute_result"
    }
   ],
   "source": [
    "# 평균과 표준 편차로서 fold 결과 분석\n",
    "pd_perf.mean(axis= 0)"
   ]
  },
  {
   "cell_type": "code",
   "execution_count": 60,
   "metadata": {},
   "outputs": [
    {
     "data": {
      "text/plain": [
       "MSE_training     3.999252\n",
       "MSE_test        16.355003\n",
       "R2_train         0.042000\n",
       "R2_test          0.165246\n",
       "dtype: float64"
      ]
     },
     "execution_count": 60,
     "metadata": {},
     "output_type": "execute_result"
    }
   ],
   "source": [
    "pd_perf.std(axis= 0)"
   ]
  },
  {
   "cell_type": "markdown",
   "metadata": {},
   "source": [
    "### 패키지 사용도 가능"
   ]
  },
  {
   "cell_type": "code",
   "execution_count": 61,
   "metadata": {},
   "outputs": [],
   "source": [
    "from sklearn.model_selection import cross_val_score"
   ]
  },
  {
   "cell_type": "code",
   "execution_count": null,
   "metadata": {},
   "outputs": [],
   "source": [
    "?cross_val_score"
   ]
  },
  {
   "cell_type": "code",
   "execution_count": 67,
   "metadata": {},
   "outputs": [
    {
     "name": "stdout",
     "output_type": "stream",
     "text": [
      "cross validation score:  [ -10.11581024  -33.25013827  -39.73491255 -106.6526283   -73.84557039]\n",
      "cross validataion average score:  -52.71981195000427\n"
     ]
    }
   ],
   "source": [
    "score = cross_val_score(rl, X, y, cv=5 , scoring='neg_mean_squared_error')\n",
    "print('cross validation score: ', score)\n",
    "print('cross validataion average score: ', score.mean())"
   ]
  },
  {
   "cell_type": "markdown",
   "metadata": {},
   "source": [
    "### 실습: Boston 데이터셋에 대해서 cross validation 3번 반복 했을 때 test error 계산하기"
   ]
  },
  {
   "cell_type": "code",
   "execution_count": null,
   "metadata": {},
   "outputs": [],
   "source": [
    "# Target 및 independent variable 셋팅\n",
    "# Response variable (Dependent variable, 종속 변수) y 는 PRICE 사용\n",
    "# Explanatory variable (Independent variable, 독립 변수) X 는 RM (주택 당 방 수) 사용\n",
    "y = boston[['Target']]\n",
    "X = boston[['RM']]\n",
    "\n",
    "model = LinearRegression()"
   ]
  },
  {
   "cell_type": "code",
   "execution_count": null,
   "metadata": {},
   "outputs": [],
   "source": []
  },
  {
   "cell_type": "markdown",
   "metadata": {},
   "source": [
    "### 실습 가이드 라인"
   ]
  },
  {
   "cell_type": "code",
   "execution_count": 69,
   "metadata": {},
   "outputs": [
    {
     "name": "stdout",
     "output_type": "stream",
     "text": [
      "cross validation score:  [ -15.65075353  -58.57889782 -114.55076324]\n",
      "cross validataion average score:  -62.92680486497932\n"
     ]
    }
   ],
   "source": [
    "# 실습 가이드\n",
    "# cv = 3\n",
    "score = cross_val_score(rl, X, y, cv=3 , scoring='neg_mean_squared_error')\n",
    "\n",
    "print('cross validation score: ', score)\n",
    "print('cross validataion average score: ', score.mean())"
   ]
  },
  {
   "cell_type": "markdown",
   "metadata": {},
   "source": [
    "---"
   ]
  },
  {
   "cell_type": "markdown",
   "metadata": {},
   "source": [
    "## 변수 변환"
   ]
  },
  {
   "cell_type": "markdown",
   "metadata": {},
   "source": [
    "### 필요성"
   ]
  },
  {
   "cell_type": "markdown",
   "metadata": {},
   "source": [
    "![CV](Image/non_linear.png)"
   ]
  },
  {
   "cell_type": "markdown",
   "metadata": {},
   "source": [
    "선형 그래프로는 비선형 그래프를 설명하지 못함."
   ]
  },
  {
   "cell_type": "code",
   "execution_count": 74,
   "metadata": {},
   "outputs": [],
   "source": [
    "# 예시를 들고자 로그 데이터를 생성함.\n",
    "X = np.linspace(0.1, 5, num = 100) # 구간 (0.1, 5)에서 총 100개의 point를 뽑음 (균일 간격)\n",
    "y = np.log(X) + np.random.normal() # y =log(X) + Normal(0,1)"
   ]
  },
  {
   "cell_type": "code",
   "execution_count": 77,
   "metadata": {},
   "outputs": [
    {
     "data": {
      "image/png": "[encoded data removed]",
      "text/plain": [
       "<Figure size 432x288 with 1 Axes>"
      ]
     },
     "metadata": {
      "needs_background": "light"
     },
     "output_type": "display_data"
    }
   ],
   "source": [
    "plt.scatter(X, y)\n",
    "plt.xlabel('X')\n",
    "plt.ylabel('log(X)+random_error')\n",
    "plt.show()"
   ]
  },
  {
   "cell_type": "code",
   "execution_count": 84,
   "metadata": {},
   "outputs": [
    {
     "data": {
      "image/png": "[encoded data removed]",
      "text/plain": [
       "<Figure size 432x288 with 1 Axes>"
      ]
     },
     "metadata": {
      "needs_background": "light"
     },
     "output_type": "display_data"
    }
   ],
   "source": [
    "# linear regression fitting 결과 시각화\n",
    "lr = LinearRegression()\n",
    "lr.fit(X[:,np.newaxis],y)\n",
    "fitted_y =lr.predict(X[:,np.newaxis])\n",
    "\n",
    "\n",
    "plt.title('Fitted vs True pattern')\n",
    "plt.scatter(X, y, label = 'True pattern')\n",
    "plt.plot(X, fitted_y,'r--', label = 'Fitted pattern')\n",
    "plt.legend()\n",
    "plt.xlabel('X')\n",
    "plt.ylabel('y')\n",
    "plt.show()"
   ]
  },
  {
   "cell_type": "markdown",
   "metadata": {},
   "source": [
    "$y = log({X\\beta})$ 관계라는 것을 알기 때문에, $e^{y} = X\\beta$ 에 대해 모델링한다면?"
   ]
  },
  {
   "cell_type": "code",
   "execution_count": 85,
   "metadata": {},
   "outputs": [
    {
     "data": {
      "image/png": "[encoded data removed]",
      "text/plain": [
       "<Figure size 432x288 with 1 Axes>"
      ]
     },
     "metadata": {
      "needs_background": "light"
     },
     "output_type": "display_data"
    }
   ],
   "source": [
    "y_transformed = np.exp(y)\n",
    "\n",
    "lr = LinearRegression()\n",
    "lr.fit(X[:,np.newaxis],y_transformed)\n",
    "fitted_y = np.log(lr.predict(X[:,np.newaxis]))\n",
    "\n",
    "\n",
    "plt.title('Fitted vs True pattern')\n",
    "plt.scatter(X, y, label = 'True pattern')\n",
    "plt.plot(X, fitted_y,'r--', label = 'Fitted pattern')\n",
    "plt.legend()\n",
    "plt.xlabel('X')\n",
    "plt.ylabel('y')\n",
    "plt.show()"
   ]
  },
  {
   "cell_type": "code",
   "execution_count": null,
   "metadata": {},
   "outputs": [],
   "source": []
  }
 ],
 "metadata": {
  "kernelspec": {
   "display_name": "Python 3",
   "language": "python",
   "name": "python3"
  },
  "language_info": {
   "codemirror_mode": {
    "name": "ipython",
    "version": 3
   },
   "file_extension": ".py",
   "mimetype": "text/x-python",
   "name": "python",
   "nbconvert_exporter": "python",
   "pygments_lexer": "ipython3",
   "version": "3.8.5"
  }
 },
 "nbformat": 4,
 "nbformat_minor": 4
}
